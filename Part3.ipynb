{
 "cells": [
  {
   "cell_type": "markdown",
   "metadata": {},
   "source": [
    "# Importing Libraries"
   ]
  },
  {
   "cell_type": "code",
   "execution_count": 1,
   "metadata": {},
   "outputs": [],
   "source": [
    "import pickle\n",
    "import sys\n",
    "import os\n",
    "from nltk.stem import PorterStemmer"
   ]
  },
  {
   "cell_type": "markdown",
   "metadata": {},
   "source": [
    "# Load Inverted Index and Term Info pickles"
   ]
  },
  {
   "cell_type": "code",
   "execution_count": 2,
   "metadata": {},
   "outputs": [],
   "source": [
    "with open('Inverted-Index.pickle', 'rb') as handle:\n",
    "    a = pickle.load(handle)\n",
    "    \n",
    "with open('Term-Info.pickle', 'rb') as handle:\n",
    "    b = pickle.load(handle)"
   ]
  },
  {
   "cell_type": "markdown",
   "metadata": {},
   "source": [
    "# Take argument from cmd line"
   ]
  },
  {
   "cell_type": "code",
   "execution_count": 4,
   "metadata": {},
   "outputs": [],
   "source": [
    "argv = sys.argv\n",
    "method = argv[1]\n",
    "term = argv[2]\n",
    "s = term\n",
    "\n",
    "ps = PorterStemmer()\n",
    "\n",
    "term = ps.stem(term)\n",
    "term = term.replace(\"'\", \"\")"
   ]
  },
  {
   "cell_type": "markdown",
   "metadata": {},
   "source": [
    "# Answer Query"
   ]
  },
  {
   "cell_type": "code",
   "execution_count": 5,
   "metadata": {},
   "outputs": [
    {
     "name": "stdout",
     "output_type": "stream",
     "text": [
      "Error : Invalid Method!\n"
     ]
    }
   ],
   "source": [
    "if method == \"--term\":\n",
    "    print(\"Listing for term : \" + str(s))\n",
    "    print(\"TERM-ID : \" + str(b[term][0]))\n",
    "    print(\"Number of documents containing term : \" + str(b[term][2]))\n",
    "    print(\"Term frequency in corpus : \" + str(b[term][1]))\n",
    "else:\n",
    "    print(\"Error : Invalid Method!\")"
   ]
  },
  {
   "cell_type": "code",
   "execution_count": null,
   "metadata": {},
   "outputs": [],
   "source": []
  }
 ],
 "metadata": {
  "kernelspec": {
   "display_name": "Python 3",
   "language": "python",
   "name": "python3"
  },
  "language_info": {
   "codemirror_mode": {
    "name": "ipython",
    "version": 3
   },
   "file_extension": ".py",
   "mimetype": "text/x-python",
   "name": "python",
   "nbconvert_exporter": "python",
   "pygments_lexer": "ipython3",
   "version": "3.7.3"
  }
 },
 "nbformat": 4,
 "nbformat_minor": 2
}
