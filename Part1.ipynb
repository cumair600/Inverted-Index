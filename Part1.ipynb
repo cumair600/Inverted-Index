{
 "cells": [
  {
   "cell_type": "markdown",
   "metadata": {},
   "source": [
    "# Importing Libraries"
   ]
  },
  {
   "cell_type": "code",
   "execution_count": 21,
   "metadata": {},
   "outputs": [],
   "source": [
    "from urllib.request import urlopen\n",
    "from bs4 import BeautifulSoup\n",
    "import os\n",
    "import nltk\n",
    "from nltk.tokenize import word_tokenize\n",
    "from nltk.tokenize import TweetTokenizer\n",
    "#nltk.download('all')"
   ]
  },
  {
   "cell_type": "markdown",
   "metadata": {},
   "source": [
    "# Reading Docs"
   ]
  },
  {
   "cell_type": "code",
   "execution_count": 22,
   "metadata": {},
   "outputs": [
    {
     "name": "stdout",
     "output_type": "stream",
     "text": [
      "Docs/file1\n",
      "Docs/file2\n",
      "Docs/file3.txt\n"
     ]
    }
   ],
   "source": [
    "path = \"Docs/\"\n",
    "\n",
    "files = []\n",
    "# r=root, d=directories, f = files\n",
    "for r, d, f in os.walk(path):\n",
    "    for file in f:\n",
    "        files.append(os.path.join(r, file))\n",
    "    \n",
    "for f in files:\n",
    "    print(f)"
   ]
  },
  {
   "cell_type": "markdown",
   "metadata": {},
   "source": [
    "# Removing Headers and HTML Tags, Tokenization"
   ]
  },
  {
   "cell_type": "code",
   "execution_count": 38,
   "metadata": {},
   "outputs": [
    {
     "name": "stdout",
     "output_type": "stream",
     "text": [
      "{0: {'Dark': [0, 120], \"Chocolate's\": [1, 372], 'Health': [2, 7, 399], 'Benefits': [3], 'Chocolate': [4, 287, 366, 375, 393, 397], 'and': [5, 50, 61, 83, 122, 140, 150, 156, 169, 198, 213, 288, 336, 367, 386, 394, 398], 'Your': [6, 289, 368, 395, 422], ':': [8], 'The': [9, 11, 349, 429], 'Basics': [10, 12, 350], \"It's\": [13], 'more': [14, 113, 253, 293, 322], 'than': [15, 294], 'wishful': [16], 'thinking': [17], '—': [18, 240], 'chocolate': [19, 30, 34, 49, 66, 121, 168, 184, 212, 229, 270, 280, 301, 309], 'can': [20], 'be': [21, 172], 'good': [22, 173, 305], 'for': [23, 174, 360], 'you': [24, 435, 450], '.': [25, 42, 63, 90, 116, 142, 158, 177, 206, 216, 250, 262, 277, 286, 314, 340, 348, 378, 427, 448, 451], 'Studies': [26], 'show': [27], 'that': [28, 237, 439], 'eating': [29], ',': [31, 35, 47, 76, 111, 136, 138, 153, 182, 189, 193, 227, 269, 321, 331], 'primarily': [32], 'dark': [33, 48, 98, 167, 183, 228], 'may': [36, 171, 199], 'contribute': [37], 'to': [38, 95, 236, 311, 414], 'improved': [39, 190, 337], 'cardiovascular': [40, 151], 'health': [41, 100, 329, 346], 'Packed': [43], 'with': [44], 'natural': [45, 87, 131], 'antioxidants': [46, 115, 128, 149], 'cocoa': [51, 73, 109, 123, 170], 'sit': [52], 'in': [53, 126, 134, 204, 283, 345], 'the': [54, 80, 93, 105, 161, 209, 255, 296, 356, 391, 432], 'same': [55], 'good-for-you': [56], 'category': [57], 'as': [58], 'green': [59], 'tea': [60], 'blueberries': [62], \"That's\": [64], 'because': [65, 102], 'comes': [67], 'from': [68], 'cacao': [69, 81], 'beans': [70, 74], '(': [71], 'or': [72, 444], ')': [75], 'which': [77], 'grow': [78], 'on': [79, 211, 327, 390], 'tree': [82], 'are': [84, 124, 146], 'full': [85], 'of': [86, 92, 108, 160, 238, 275, 355, 381, 431], 'plant': [88], 'nutrients': [89, 285], 'Most': [91], 'studies': [94, 164, 347], 'date': [96], 'highlight': [97], \"chocolate's\": [99, 328, 343], 'values': [101], 'it': [103, 242, 292], 'has': [104, 185, 230, 424, 437], 'highest': [106], 'percentage': [107], 'solids': [110], 'therefore': [112], 'flavanol': [114], 'An': [117, 351], 'Antioxidant': [118, 352], 'Powerhouse': [119, 353], 'rich': [125], 'cell-protecting': [127], '-': [129, 130], 'compounds': [132], 'found': [133], 'fruits': [135], 'vegetables': [137], 'grains': [139], 'nuts': [141], 'Read': [143, 207], 'what': [144, 308], 'scientists': [145], 'studying': [147], 'regarding': [148], 'disease': [152], 'premature': [154], 'aging': [155], 'cancer': [157], 'Matters': [159, 354], 'Heart': [162, 357], 'Recent': [163], 'have': [165], 'shown': [166], 'your': [175, 214, 246, 259, 312], 'heart': [176, 215], 'In': [178], 'short-term': [179], 'clinical': [180], 'trials': [181], 'reduced': [186], 'blood': [187, 191, 247], 'pressure': [188], 'flow': [192], 'showed': [194], 'mild': [195], 'anti-clotting': [196], 'effects': [197], 'help': [200], 'prevent': [201], 'plaque': [202], 'formation': [203], 'arteries': [205], 'about': [208, 254, 342], 'research': [210, 323], 'Sweet': [217, 358], 'News': [218, 359], 'For': [219], 'Managing': [220, 361], 'Blood': [221, 362], 'Sugar': [222, 363], 'Despite': [223], 'its': [224], 'sweet': [225], 'reputation': [226], 'a': [231, 382, 415], 'low': [232], 'glycemic': [233], 'index': [234], 'similar': [235], 'oatmeal': [239], 'meaning': [241], 'does': [243, 300, 310], 'not': [244, 441], 'send': [245, 442], 'sugar': [248], 'spiking': [249], 'Find': [251], 'out': [252], 'surprising': [256], 'chemistry': [257], 'behind': [258], 'favorite': [260], 'treat': [261], 'Vital': [263, 364], 'Minerals': [264, 365], 'Like': [265], 'any': [266], 'plant-based': [267], 'food': [268], 'naturally': [271], 'contains': [272], 'an': [273], 'array': [274], 'minerals': [276], 'See': [278], 'how': [279], 'stacks': [281], 'up': [282], 'critical': [284], 'Brain': [290, 369], 'Is': [291], 'just': [295], 'taste': [297], '?': [298, 306], 'Why': [299], 'make': [302], 'us': [303], 'feel': [304], 'Discover': [307], 'brain': [313], 'Emerging': [315, 370], 'Science': [316, 371], 'Buoyed': [317], 'by': [318], 'positive': [319], 'findings': [320], 'is': [324], 'being': [325], 'conducted': [326], 'benefits': [330], 'including': [332], 'potential': [333], 'cancer-fighting': [334], 'abilities': [335], 'cognitive': [338], 'function': [339], 'Learn': [341], 'future': [344], 'Nutritional': [373], 'Breakdown': [374], 'Myth': [376], 'vs': [377], 'Fact': [379], 'Part': [380], 'Balanced': [383], 'Diet': [384], 'Cacao': [385], 'Ancient': [387], 'Medicine': [388], 'Scientists': [389], 'Forefront': [392], 'Pets': [396], 'Resources': [400], 'Legal': [401], 'Info': [402], 'Privacy': [403, 411], 'Policy': [404, 412], 'Site': [405, 409], 'Index': [406], 'Contact': [407], 'Us': [408], 'Sponsors': [410], 'Send': [413], 'Friend': [416], '*': [417], 'required': [418], 'fields': [419], 'Thank': [420, 449], 'You': [421], 'message': [423], 'been': [425], 'sent': [426], 'Sorry': [428], 'owner': [430], 'email': [433], 'address': [434], 'entered': [436], 'requested': [438], 'we': [440], 'him': [443], 'her': [445], 'unsolicited': [446], 'emails': [447]}, 1: {'AOL': [0, 4, 22, 129, 157], 'Lifestream': [1, 5, 130], ':': [2, 24, 30, 50], 'Login': [3], 'Everything': [6, 12], 'People': [7, 13], 'Places': [8, 14], 'Sign': [9, 15, 32, 73, 120, 125, 132, 134], 'InSign': [10], 'Up': [11, 33, 74, 121, 126, 133], 'In': [16, 135], 'to': [17, 63, 95], 'Use': [18], 'your': [19, 27, 38, 47, 66, 87, 107], 'AIM': [20], 'or': [21], 'account': [23, 29, 49], 'Or': [25, 45], 'use': [26, 46], 'existing': [28, 48], 'Facebook': [31, 51], 'with': [34], 'Start': [35], 'connecting': [36], 'all': [37, 64, 85], 'networks': [39, 56, 67, 88], '!': [40, 44, 76, 116, 128], 'Create': [41], 'an': [42, 104], 'Account': [43], 'One': [52], 'stream': [53], ',': [54, 59, 109], 'multiple': [55], '.': [57, 72, 82, 92, 102, 124, 159, 163], 'Read': [58], 'comment': [60], 'and': [61], 'post': [62], 'of': [65, 86, 139], 'from': [68, 89], 'one': [69, 90], 'handy': [70], 'place': [71, 91], 'Now': [75, 127], 'Find': [77], 'it': [78], 'now.On': [79], 'any': [80], 'network': [81], 'Search': [83], 'across': [84], 'Stay': [93], 'up': [94], 'date': [96], 'when': [97], \"you're\": [98], 'on': [99], 'the': [100], 'go': [101], \"There's\": [103], 'app': [105], 'for': [106], 'smartphone': [108], 'so': [110], 'you': [111], \"won't\": [112], 'miss': [113], 'a': [114], 'thing': [115], 'Learn': [117], 'More': [118], '»': [119], 'Simplifying': [122], 'Social': [123], 'Downloads': [131], 'Feedback': [136], 'Updated': [137, 141], 'Terms': [138], 'Service': [140], 'Privacy': [142], 'Policy': [143, 147], 'Trademarks': [144], 'Bulk': [145], 'Email': [146], 'Advertise': [148], 'With': [149], 'Us': [150], 'About': [151], 'Our': [152], 'Ads': [153], 'AOL.com': [154], '©': [155], '2012': [156], 'Inc': [158], 'All': [160], 'Rights': [161], 'Reserved': [162]}, 2: {'AOL': [0, 4, 22, 129, 157], 'Lifestream': [1, 5, 130], ':': [2, 24, 30, 50], 'Login': [3], 'Everything': [6, 12], 'People': [7, 13], 'Places': [8, 14], 'Sign': [9, 15, 32, 73, 120, 125, 132, 134], 'InSign': [10], 'Up': [11, 33, 74, 121, 126, 133], 'In': [16, 135], 'to': [17, 63, 95], 'Use': [18], 'your': [19, 27, 38, 47, 66, 87, 107], 'AIM': [20], 'or': [21], 'account': [23, 29, 49], 'Or': [25, 45], 'use': [26, 46], 'existing': [28, 48], 'Facebook': [31, 51], 'with': [34], 'Start': [35], 'connecting': [36], 'all': [37, 64, 85], 'networks': [39, 56, 67, 88], '!': [40, 44, 76, 116, 128], 'Create': [41], 'an': [42, 104], 'Account': [43], 'One': [52], 'stream': [53], ',': [54, 59, 109], 'multiple': [55], '.': [57, 72, 82, 92, 102, 124, 159, 163], 'Read': [58], 'comment': [60], 'and': [61], 'post': [62], 'of': [65, 86, 139], 'from': [68, 89], 'one': [69, 90], 'handy': [70], 'place': [71, 91], 'Now': [75, 127], 'Find': [77], 'it': [78], 'now.On': [79], 'any': [80], 'network': [81], 'Search': [83], 'across': [84], 'Stay': [93], 'up': [94], 'date': [96], 'when': [97], \"you're\": [98], 'on': [99], 'the': [100], 'go': [101], \"There's\": [103], 'app': [105], 'for': [106], 'smartphone': [108], 'so': [110], 'you': [111], \"won't\": [112], 'miss': [113], 'a': [114], 'thing': [115], 'Learn': [117], 'More': [118], '»': [119], 'Simplifying': [122], 'Social': [123], 'Downloads': [131], 'Feedback': [136], 'Updated': [137, 141], 'Terms': [138], 'Service': [140], 'Privacy': [142], 'Policy': [143, 147], 'Trademarks': [144], 'Bulk': [145], 'Email': [146], 'Advertise': [148], 'With': [149], 'Us': [150], 'About': [151], 'Our': [152], 'Ads': [153], 'AOL.com': [154], '©': [155], '2012': [156], 'Inc': [158], 'All': [160], 'Rights': [161], 'Reserved': [162]}}\n"
     ]
    }
   ],
   "source": [
    "docs_words = {}\n",
    "i = 0 #for docs_words\n",
    "\n",
    "for f in files:\n",
    "    doc = open(f,\"r\")\n",
    "    html = doc.read()\n",
    "    \n",
    "    index = html.find(\"<html\")\n",
    "    if index == -1 :\n",
    "        html.find(\"<Html\")\n",
    "    elif index == -1 : \n",
    "        html.find(\"<HTML\")\n",
    "    html = html[index:]\n",
    "\n",
    "    soup = BeautifulSoup(html)\n",
    "\n",
    "    # kill all script and style elements\n",
    "    for script in soup([\"script\", \"style\"]):\n",
    "        script.extract()    # rip it out\n",
    "\n",
    "    # get text\n",
    "    text = soup.get_text()\n",
    "\n",
    "    # break into lines and remove leading and trailing space on each\n",
    "    lines = (line.strip() for line in text.splitlines())\n",
    "    # break multi-headlines into a line each\n",
    "    chunks = (phrase.strip() for line in lines for phrase in line.split(\"  \"))\n",
    "    # drop blank lines\n",
    "    text = '\\n'.join(chunk for chunk in chunks if chunk)\n",
    "    \n",
    "    #print(\"Doc : \" + text + \"\\n\\n\")\n",
    "    tknzr = TweetTokenizer()\n",
    "    tokens = tknzr.tokenize(text)\n",
    "    words_pos = {}\n",
    "    j = 0; #for words_pos\n",
    "    for t in tokens:\n",
    "        if t not in words_pos.keys():\n",
    "            words_pos[t] = []\n",
    "        if t in words_pos.keys():\n",
    "            words_pos[t].append(j)\n",
    "        j = j + 1\n",
    "    \n",
    "    docs_words[i] = words_pos\n",
    "    i = i + 1\n",
    "\n",
    "#print(words_pos)\n",
    "print(docs_words) "
   ]
  },
  {
   "cell_type": "markdown",
   "metadata": {},
   "source": [
    "# Converting tokens into lowercase"
   ]
  },
  {
   "cell_type": "code",
   "execution_count": 29,
   "metadata": {},
   "outputs": [],
   "source": [
    "for i in range(len(docs_words)):\n",
    "    for j in range(len(docs_words[i])):\n",
    "        docs_words[i][j] = docs_words[i][j].lower()\n",
    "#print(docs_words)               "
   ]
  },
  {
   "cell_type": "markdown",
   "metadata": {},
   "source": [
    "# Removing Stop list words"
   ]
  },
  {
   "cell_type": "code",
   "execution_count": 31,
   "metadata": {},
   "outputs": [
    {
     "name": "stdout",
     "output_type": "stream",
     "text": [
      "{0: ['dark', \"chocolate's\", 'health', 'benefits', 'chocolate', 'health', 'basics', 'basics', \"it's\", 'wishful', 'thinking', 'chocolate', 'good', 'studies', 'show', 'eating', 'chocolate', 'primarily', 'dark', 'chocolate', 'contribute', 'improved', 'cardiovascular', 'health', 'packed', 'natural', 'antioxidants', 'dark', 'chocolate', 'cocoa', 'sit', 'good-for-you', 'category', 'green', 'tea', 'blueberries', \"that's\", 'chocolate', 'comes', 'cacao', 'beans', 'cocoa', 'beans', 'grow', 'cacao', 'tree', 'full', 'natural', 'plant', 'nutrients', 'studies', 'date', 'highlight', 'dark', \"chocolate's\", 'health', 'values', 'highest', 'percentage', 'cocoa', 'solids', 'flavanol', 'antioxidants', 'antioxidant', 'powerhouse', 'dark', 'chocolate', 'cocoa', 'rich', 'cell-protecting', 'antioxidants', 'natural', 'compounds', 'found', 'fruits', 'vegetables', 'grains', 'nuts', 'read', 'scientists', 'studying', 'regarding', 'antioxidants', 'cardiovascular', 'disease', 'premature', 'aging', 'cancer', 'matters', 'heart', 'recent', 'studies', 'dark', 'chocolate', 'cocoa', 'good', 'heart', 'short-term', 'clinical', 'trials', 'dark', 'chocolate', 'reduced', 'blood', 'pressure', 'improved', 'blood', 'flow', 'showed', 'mild', 'anti-clotting', 'effects', 'help', 'prevent', 'plaque', 'formation', 'arteries', 'read', 'research', 'chocolate', 'heart', 'sweet', 'news', 'managing', 'blood', 'sugar', 'despite', 'sweet', 'reputation', 'dark', 'chocolate', 'low', 'glycemic', 'index', 'similar', 'oatmeal', 'meaning', 'send', 'blood', 'sugar', 'spiking', 'find', 'surprising', 'chemistry', 'favorite', 'treat', 'vital', 'minerals', 'plant-based', 'food', 'chocolate', 'naturally', 'contains', 'array', 'minerals', 'chocolate', 'stacks', 'critical', 'nutrients', 'chocolate', 'brain', 'taste', 'chocolate', 'make', 'feel', 'good', 'discover', 'chocolate', 'brain', 'emerging', 'science', 'buoyed', 'positive', 'findings', 'research', 'conducted', \"chocolate's\", 'health', 'benefits', 'potential', 'cancer-fighting', 'abilities', 'improved', 'cognitive', 'function', 'learn', \"chocolate's\", 'future', 'health', 'studies', 'basics', 'antioxidant', 'powerhouse', 'matters', 'heart', 'sweet', 'news', 'managing', 'blood', 'sugar', 'vital', 'minerals', 'chocolate', 'brain', 'emerging', 'science', \"chocolate's\", 'nutritional', 'breakdown', 'chocolate', 'myth', 'fact', 'part', 'balanced', 'diet', 'cacao', 'ancient', 'medicine', 'scientists', 'forefront', 'chocolate', 'pets', 'chocolate', 'health', 'resources', 'legal', 'info', 'privacy', 'policy', 'site', 'index', 'contact', 'site', 'sponsors', 'privacy', 'policy', 'send', 'friend', 'required', 'fields', 'thank', 'message', 'sorry', 'owner', 'email', 'address', 'entered', 'requested', 'send', 'unsolicited', 'emails', 'thank'], 1: ['aol', 'lifestream', 'login', 'aol', 'lifestream', 'people', 'places', 'sign', 'insign', 'people', 'places', 'sign', 'aim', 'aol', 'account', 'existing', 'account', 'facebook', 'sign', 'start', 'connecting', 'networks', 'create', 'account', 'existing', 'account', 'facebook', 'stream', 'multiple', 'networks', 'read', 'comment', 'post', 'networks', 'handy', 'place', 'sign', 'find', 'now.on', 'network', 'search', 'networks', 'place', 'stay', 'date', \"you're\", \"there's\", 'app', 'smartphone', \"won't\", 'miss', 'thing', 'learn', 'sign', 'simplifying', 'social', 'sign', 'aol', 'lifestream', 'downloads', 'sign', 'sign', 'feedback', 'updated', 'terms', 'service', 'updated', 'privacy', 'policy', 'trademarks', 'bulk', 'email', 'policy', 'advertise', 'ads', 'aol.com', '2012', 'aol', 'rights', 'reserved'], 2: ['aol', 'lifestream', 'login', 'aol', 'lifestream', 'people', 'places', 'sign', 'insign', 'people', 'places', 'sign', 'aim', 'aol', 'account', 'existing', 'account', 'facebook', 'sign', 'start', 'connecting', 'networks', 'create', 'account', 'existing', 'account', 'facebook', 'stream', 'multiple', 'networks', 'read', 'comment', 'post', 'networks', 'handy', 'place', 'sign', 'find', 'now.on', 'network', 'search', 'networks', 'place', 'stay', 'date', \"you're\", \"there's\", 'app', 'smartphone', \"won't\", 'miss', 'thing', 'learn', 'sign', 'simplifying', 'social', 'sign', 'aol', 'lifestream', 'downloads', 'sign', 'sign', 'feedback', 'updated', 'terms', 'service', 'updated', 'privacy', 'policy', 'trademarks', 'bulk', 'email', 'policy', 'advertise', 'ads', 'aol.com', '2012', 'aol', 'rights', 'reserved']}\n"
     ]
    }
   ],
   "source": [
    "f = open(\"stoplist.txt\", \"r\")\n",
    "stoplist = f.read().splitlines()\n",
    "\n",
    "for i in range(len(docs_words)):\n",
    "    for word in list(docs_words[i]):\n",
    "        if word in stoplist or len(word) == 1:\n",
    "            docs_words[i].remove(word)\n",
    "#print(docs_words)            "
   ]
  },
  {
   "cell_type": "code",
   "execution_count": null,
   "metadata": {},
   "outputs": [],
   "source": []
  }
 ],
 "metadata": {
  "kernelspec": {
   "display_name": "Python 3",
   "language": "python",
   "name": "python3"
  },
  "language_info": {
   "codemirror_mode": {
    "name": "ipython",
    "version": 3
   },
   "file_extension": ".py",
   "mimetype": "text/x-python",
   "name": "python",
   "nbconvert_exporter": "python",
   "pygments_lexer": "ipython3",
   "version": "3.7.3"
  }
 },
 "nbformat": 4,
 "nbformat_minor": 2
}
