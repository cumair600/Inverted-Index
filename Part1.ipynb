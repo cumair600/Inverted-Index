{
 "cells": [
  {
   "cell_type": "markdown",
   "metadata": {},
   "source": [
    "# Importing Libraries"
   ]
  },
  {
   "cell_type": "code",
   "execution_count": 139,
   "metadata": {},
   "outputs": [],
   "source": [
    "from urllib.request import urlopen\n",
    "from bs4 import BeautifulSoup\n",
    "import os\n",
    "import nltk\n",
    "from nltk.tokenize import word_tokenize\n",
    "from nltk.tokenize import TweetTokenizer\n",
    "from nltk.stem import PorterStemmer as ps \n",
    "\n",
    "#nltk.download('all')"
   ]
  },
  {
   "cell_type": "markdown",
   "metadata": {},
   "source": [
    "# Reading Docs"
   ]
  },
  {
   "cell_type": "code",
   "execution_count": 140,
   "metadata": {},
   "outputs": [
    {
     "name": "stdout",
     "output_type": "stream",
     "text": [
      "Docs/file1\n",
      "Docs/file2\n",
      "Docs/file3.txt\n"
     ]
    }
   ],
   "source": [
    "path = \"Docs/\"\n",
    "\n",
    "files = []\n",
    "# r=root, d=directories, f = files\n",
    "for r, d, f in os.walk(path):\n",
    "    for file in f:\n",
    "        files.append(os.path.join(r, file))\n",
    "    \n",
    "for f in files:\n",
    "    print(f)"
   ]
  },
  {
   "cell_type": "markdown",
   "metadata": {},
   "source": [
    "# Removing Headers and HTML Tags, Tokenization, Lower Casing, StopListing, Stemming"
   ]
  },
  {
   "cell_type": "code",
   "execution_count": 141,
   "metadata": {},
   "outputs": [
    {
     "name": "stdout",
     "output_type": "stream",
     "text": [
      "{0: {'dark': [0, 33, 48, 98, 120, 167, 183, 228], \"chocolate's\": [1, 99, 328, 343, 372], 'health': [2, 7, 41, 100, 329, 346, 399], 'benefits': [3, 330], 'chocolate': [4, 19, 30, 34, 49, 66, 121, 168, 184, 212, 229, 270, 280, 287, 301, 309, 366, 375, 393, 397], 'and': [5, 50, 61, 83, 122, 140, 150, 156, 169, 198, 213, 288, 336, 367, 386, 394, 398], 'your': [6, 175, 214, 246, 259, 289, 312, 368, 395, 422], ':': [8], 'the': [9, 11, 54, 80, 93, 105, 161, 209, 255, 296, 349, 356, 391, 429, 432], 'basics': [10, 12, 350], \"it's\": [13], 'more': [14, 113, 253, 293, 322], 'than': [15, 294], 'wishful': [16], 'thinking': [17], '—': [18, 240], 'can': [20], 'be': [21, 172], 'good': [22, 173, 305], 'for': [23, 174, 219, 360], 'you': [24, 421, 435, 450], '.': [25, 42, 63, 90, 116, 142, 158, 177, 206, 216, 250, 262, 277, 286, 314, 340, 348, 378, 427, 448, 451], 'studies': [26, 94, 164, 347], 'show': [27], 'that': [28, 237, 439], 'eating': [29], ',': [31, 35, 47, 76, 111, 136, 138, 153, 182, 189, 193, 227, 269, 321, 331], 'primarily': [32], 'may': [36, 171, 199], 'contribute': [37], 'to': [38, 95, 236, 311, 414], 'improved': [39, 190, 337], 'cardiovascular': [40, 151], 'packed': [43], 'with': [44], 'natural': [45, 87, 131], 'antioxidants': [46, 115, 128, 149], 'cocoa': [51, 73, 109, 123, 170], 'sit': [52], 'in': [53, 126, 134, 178, 204, 283, 345], 'same': [55], 'good-for-you': [56], 'category': [57], 'as': [58], 'green': [59], 'tea': [60], 'blueberries': [62], \"that's\": [64], 'because': [65, 102], 'comes': [67], 'from': [68], 'cacao': [69, 81, 385], 'beans': [70, 74], '(': [71], 'or': [72, 444], ')': [75], 'which': [77], 'grow': [78], 'on': [79, 211, 327, 390], 'tree': [82], 'are': [84, 124, 146], 'full': [85], 'of': [86, 92, 108, 160, 238, 275, 355, 381, 431], 'plant': [88], 'nutrients': [89, 285], 'most': [91], 'date': [96], 'highlight': [97], 'values': [101], 'it': [103, 242, 292], 'has': [104, 185, 230, 424, 437], 'highest': [106], 'percentage': [107], 'solids': [110], 'therefore': [112], 'flavanol': [114], 'an': [117, 273, 351], 'antioxidant': [118, 352], 'powerhouse': [119, 353], 'rich': [125], 'cell-protecting': [127], '-': [129, 130], 'compounds': [132], 'found': [133], 'fruits': [135], 'vegetables': [137], 'grains': [139], 'nuts': [141], 'read': [143, 207], 'what': [144, 308], 'scientists': [145, 389], 'studying': [147], 'regarding': [148], 'disease': [152], 'premature': [154], 'aging': [155], 'cancer': [157], 'matters': [159, 354], 'heart': [162, 176, 215, 357], 'recent': [163], 'have': [165], 'shown': [166], 'short-term': [179], 'clinical': [180], 'trials': [181], 'reduced': [186], 'blood': [187, 191, 221, 247, 362], 'pressure': [188], 'flow': [192], 'showed': [194], 'mild': [195], 'anti-clotting': [196], 'effects': [197], 'help': [200], 'prevent': [201], 'plaque': [202], 'formation': [203], 'arteries': [205], 'about': [208, 254, 342], 'research': [210, 323], 'sweet': [217, 225, 358], 'news': [218, 359], 'managing': [220, 361], 'sugar': [222, 248, 363], 'despite': [223], 'its': [224], 'reputation': [226], 'a': [231, 382, 415], 'low': [232], 'glycemic': [233], 'index': [234, 406], 'similar': [235], 'oatmeal': [239], 'meaning': [241], 'does': [243, 300, 310], 'not': [244, 441], 'send': [245, 413, 442], 'spiking': [249], 'find': [251], 'out': [252], 'surprising': [256], 'chemistry': [257], 'behind': [258], 'favorite': [260], 'treat': [261], 'vital': [263, 364], 'minerals': [264, 276, 365], 'like': [265], 'any': [266], 'plant-based': [267], 'food': [268], 'naturally': [271], 'contains': [272], 'array': [274], 'see': [278], 'how': [279], 'stacks': [281], 'up': [282], 'critical': [284], 'brain': [290, 313, 369], 'is': [291, 324], 'just': [295], 'taste': [297], '?': [298, 306], 'why': [299], 'make': [302], 'us': [303, 408], 'feel': [304], 'discover': [307], 'emerging': [315, 370], 'science': [316, 371], 'buoyed': [317], 'by': [318], 'positive': [319], 'findings': [320], 'being': [325], 'conducted': [326], 'including': [332], 'potential': [333], 'cancer-fighting': [334], 'abilities': [335], 'cognitive': [338], 'function': [339], 'learn': [341], 'future': [344], 'nutritional': [373], 'breakdown': [374], 'myth': [376], 'vs': [377], 'fact': [379], 'part': [380], 'balanced': [383], 'diet': [384], 'ancient': [387], 'medicine': [388], 'forefront': [392], 'pets': [396], 'resources': [400], 'legal': [401], 'info': [402], 'privacy': [403, 411], 'policy': [404, 412], 'site': [405, 409], 'contact': [407], 'sponsors': [410], 'friend': [416], '*': [417], 'required': [418], 'fields': [419], 'thank': [420, 449], 'message': [423], 'been': [425], 'sent': [426], 'sorry': [428], 'owner': [430], 'email': [433], 'address': [434], 'entered': [436], 'requested': [438], 'we': [440], 'him': [443], 'her': [445], 'unsolicited': [446], 'emails': [447]}, 1: {'aol': [0, 4, 22, 129, 157], 'lifestream': [1, 5, 130], ':': [2, 24, 30, 50], 'login': [3], 'everything': [6, 12], 'people': [7, 13], 'places': [8, 14], 'sign': [9, 15, 32, 73, 120, 125, 132, 134], 'insign': [10], 'up': [11, 33, 74, 94, 121, 126, 133], 'in': [16, 135], 'to': [17, 63, 95], 'use': [18, 26, 46], 'your': [19, 27, 38, 47, 66, 87, 107], 'aim': [20], 'or': [21, 25, 45], 'account': [23, 29, 43, 49], 'existing': [28, 48], 'facebook': [31, 51], 'with': [34, 149], 'start': [35], 'connecting': [36], 'all': [37, 64, 85, 160], 'networks': [39, 56, 67, 88], '!': [40, 44, 76, 116, 128], 'create': [41], 'an': [42, 104], 'one': [52, 69, 90], 'stream': [53], ',': [54, 59, 109], 'multiple': [55], '.': [57, 72, 82, 92, 102, 124, 159, 163], 'read': [58], 'comment': [60], 'and': [61], 'post': [62], 'of': [65, 86, 139], 'from': [68, 89], 'handy': [70], 'place': [71, 91], 'now': [75, 127], 'find': [77], 'it': [78], 'now.on': [79], 'any': [80], 'network': [81], 'search': [83], 'across': [84], 'stay': [93], 'date': [96], 'when': [97], \"you're\": [98], 'on': [99], 'the': [100], 'go': [101], \"there's\": [103], 'app': [105], 'for': [106], 'smartphone': [108], 'so': [110], 'you': [111], \"won't\": [112], 'miss': [113], 'a': [114], 'thing': [115], 'learn': [117], 'more': [118], '»': [119], 'simplifying': [122], 'social': [123], 'downloads': [131], 'feedback': [136], 'updated': [137, 141], 'terms': [138], 'service': [140], 'privacy': [142], 'policy': [143, 147], 'trademarks': [144], 'bulk': [145], 'email': [146], 'advertise': [148], 'us': [150], 'about': [151], 'our': [152], 'ads': [153], 'aol.com': [154], '©': [155], '2012': [156], 'inc': [158], 'rights': [161], 'reserved': [162]}, 2: {'aol': [0, 4, 22, 129, 157], 'lifestream': [1, 5, 130], ':': [2, 24, 30, 50], 'login': [3], 'everything': [6, 12], 'people': [7, 13], 'places': [8, 14], 'sign': [9, 15, 32, 73, 120, 125, 132, 134], 'insign': [10], 'up': [11, 33, 74, 94, 121, 126, 133], 'in': [16, 135], 'to': [17, 63, 95], 'use': [18, 26, 46], 'your': [19, 27, 38, 47, 66, 87, 107], 'aim': [20], 'or': [21, 25, 45], 'account': [23, 29, 43, 49], 'existing': [28, 48], 'facebook': [31, 51], 'with': [34, 149], 'start': [35], 'connecting': [36], 'all': [37, 64, 85, 160], 'networks': [39, 56, 67, 88], '!': [40, 44, 76, 116, 128], 'create': [41], 'an': [42, 104], 'one': [52, 69, 90], 'stream': [53], ',': [54, 59, 109], 'multiple': [55], '.': [57, 72, 82, 92, 102, 124, 159, 163], 'read': [58], 'comment': [60], 'and': [61], 'post': [62], 'of': [65, 86, 139], 'from': [68, 89], 'handy': [70], 'place': [71, 91], 'now': [75, 127], 'find': [77], 'it': [78], 'now.on': [79], 'any': [80], 'network': [81], 'search': [83], 'across': [84], 'stay': [93], 'date': [96], 'when': [97], \"you're\": [98], 'on': [99], 'the': [100], 'go': [101], \"there's\": [103], 'app': [105], 'for': [106], 'smartphone': [108], 'so': [110], 'you': [111], \"won't\": [112], 'miss': [113], 'a': [114], 'thing': [115], 'learn': [117], 'more': [118], '»': [119], 'simplifying': [122], 'social': [123], 'downloads': [131], 'feedback': [136], 'updated': [137, 141], 'terms': [138], 'service': [140], 'privacy': [142], 'policy': [143, 147], 'trademarks': [144], 'bulk': [145], 'email': [146], 'advertise': [148], 'us': [150], 'about': [151], 'our': [152], 'ads': [153], 'aol.com': [154], '©': [155], '2012': [156], 'inc': [158], 'rights': [161], 'reserved': [162]}}\n"
     ]
    }
   ],
   "source": [
    "docs_words = {}\n",
    "i = 0 #for docs_words\n",
    "\n",
    "for f in files:\n",
    "    doc = open(f,\"r\")\n",
    "    html = doc.read()\n",
    "    \n",
    "    index = html.find(\"<html\")\n",
    "    if index == -1 :\n",
    "        html.find(\"<Html\")\n",
    "    elif index == -1 : \n",
    "        html.find(\"<HTML\")\n",
    "    html = html[index:]\n",
    "\n",
    "    soup = BeautifulSoup(html)\n",
    "\n",
    "    # kill all script and style elements\n",
    "    for script in soup([\"script\", \"style\"]):\n",
    "        script.extract()    # rip it out\n",
    "\n",
    "    # get text\n",
    "    text = soup.get_text()\n",
    "\n",
    "    # break into lines and remove leading and trailing space on each\n",
    "    lines = (line.strip() for line in text.splitlines())\n",
    "    # break multi-headlines into a line each\n",
    "    chunks = (phrase.strip() for line in lines for phrase in line.split(\"  \"))\n",
    "    # drop blank lines\n",
    "    text = '\\n'.join(chunk for chunk in chunks if chunk)\n",
    "    \n",
    "    #print(\"Doc : \" + text + \"\\n\\n\")\n",
    "    tknzr = TweetTokenizer()\n",
    "    tokens = tknzr.tokenize(text)\n",
    "    words_pos = {}\n",
    "    j = 0; #for words_pos\n",
    "    for t in tokens:\n",
    "        t = t.lower() #lowering Case\n",
    "        \n",
    "        if t not in words_pos.keys():\n",
    "            words_pos[t] = []\n",
    "        if t in words_pos.keys():\n",
    "            words_pos[t].append(j)\n",
    "        j = j + 1\n",
    "    \n",
    "    docs_words[i] = words_pos\n",
    "    i = i + 1\n",
    "\n",
    "print(docs_words) "
   ]
  },
  {
   "cell_type": "markdown",
   "metadata": {},
   "source": [
    "# Removing stop words"
   ]
  },
  {
   "cell_type": "code",
   "execution_count": 142,
   "metadata": {},
   "outputs": [
    {
     "name": "stdout",
     "output_type": "stream",
     "text": [
      "{0: {'dark': [0, 33, 48, 98, 120, 167, 183, 228], \"chocolate's\": [1, 99, 328, 343, 372], 'health': [2, 7, 41, 100, 329, 346, 399], 'benefits': [3, 330], 'chocolate': [4, 19, 30, 34, 49, 66, 121, 168, 184, 212, 229, 270, 280, 287, 301, 309, 366, 375, 393, 397], 'basics': [10, 12, 350], \"it's\": [13], 'wishful': [16], 'thinking': [17], 'good': [22, 173, 305], 'studies': [26, 94, 164, 347], 'show': [27], 'eating': [29], 'primarily': [32], 'contribute': [37], 'improved': [39, 190, 337], 'cardiovascular': [40, 151], 'packed': [43], 'natural': [45, 87, 131], 'antioxidants': [46, 115, 128, 149], 'cocoa': [51, 73, 109, 123, 170], 'sit': [52], 'good-for-you': [56], 'category': [57], 'green': [59], 'tea': [60], 'blueberries': [62], \"that's\": [64], 'comes': [67], 'cacao': [69, 81, 385], 'beans': [70, 74], 'grow': [78], 'tree': [82], 'full': [85], 'plant': [88], 'nutrients': [89, 285], 'date': [96], 'highlight': [97], 'values': [101], 'highest': [106], 'percentage': [107], 'solids': [110], 'flavanol': [114], 'antioxidant': [118, 352], 'powerhouse': [119, 353], 'rich': [125], 'cell-protecting': [127], 'compounds': [132], 'found': [133], 'fruits': [135], 'vegetables': [137], 'grains': [139], 'nuts': [141], 'read': [143, 207], 'scientists': [145, 389], 'studying': [147], 'regarding': [148], 'disease': [152], 'premature': [154], 'aging': [155], 'cancer': [157], 'matters': [159, 354], 'heart': [162, 176, 215, 357], 'recent': [163], 'short-term': [179], 'clinical': [180], 'trials': [181], 'reduced': [186], 'blood': [187, 191, 221, 247, 362], 'pressure': [188], 'flow': [192], 'showed': [194], 'mild': [195], 'anti-clotting': [196], 'effects': [197], 'help': [200], 'prevent': [201], 'plaque': [202], 'formation': [203], 'arteries': [205], 'research': [210, 323], 'sweet': [217, 225, 358], 'news': [218, 359], 'managing': [220, 361], 'sugar': [222, 248, 363], 'despite': [223], 'reputation': [226], 'low': [232], 'glycemic': [233], 'index': [234, 406], 'similar': [235], 'oatmeal': [239], 'meaning': [241], 'send': [245, 413, 442], 'spiking': [249], 'find': [251], 'surprising': [256], 'chemistry': [257], 'favorite': [260], 'treat': [261], 'vital': [263, 364], 'minerals': [264, 276, 365], 'plant-based': [267], 'food': [268], 'naturally': [271], 'contains': [272], 'array': [274], 'stacks': [281], 'critical': [284], 'brain': [290, 313, 369], 'taste': [297], 'make': [302], 'feel': [304], 'discover': [307], 'emerging': [315, 370], 'science': [316, 371], 'buoyed': [317], 'positive': [319], 'findings': [320], 'conducted': [326], 'potential': [333], 'cancer-fighting': [334], 'abilities': [335], 'cognitive': [338], 'function': [339], 'learn': [341], 'future': [344], 'nutritional': [373], 'breakdown': [374], 'myth': [376], 'fact': [379], 'part': [380], 'balanced': [383], 'diet': [384], 'ancient': [387], 'medicine': [388], 'forefront': [392], 'pets': [396], 'resources': [400], 'legal': [401], 'info': [402], 'privacy': [403, 411], 'policy': [404, 412], 'site': [405, 409], 'contact': [407], 'sponsors': [410], 'friend': [416], 'required': [418], 'fields': [419], 'thank': [420, 449], 'message': [423], 'sorry': [428], 'owner': [430], 'email': [433], 'address': [434], 'entered': [436], 'requested': [438], 'unsolicited': [446], 'emails': [447]}, 1: {'aol': [0, 4, 22, 129, 157], 'lifestream': [1, 5, 130], 'login': [3], 'people': [7, 13], 'places': [8, 14], 'sign': [9, 15, 32, 73, 120, 125, 132, 134], 'insign': [10], 'aim': [20], 'account': [23, 29, 43, 49], 'existing': [28, 48], 'facebook': [31, 51], 'start': [35], 'connecting': [36], 'networks': [39, 56, 67, 88], 'create': [41], 'stream': [53], 'multiple': [55], 'read': [58], 'comment': [60], 'post': [62], 'handy': [70], 'place': [71, 91], 'find': [77], 'now.on': [79], 'network': [81], 'search': [83], 'stay': [93], 'date': [96], \"you're\": [98], \"there's\": [103], 'app': [105], 'smartphone': [108], \"won't\": [112], 'miss': [113], 'thing': [115], 'learn': [117], 'simplifying': [122], 'social': [123], 'downloads': [131], 'feedback': [136], 'updated': [137, 141], 'terms': [138], 'service': [140], 'privacy': [142], 'policy': [143, 147], 'trademarks': [144], 'bulk': [145], 'email': [146], 'advertise': [148], 'ads': [153], 'aol.com': [154], '2012': [156], 'rights': [161], 'reserved': [162]}, 2: {'aol': [0, 4, 22, 129, 157], 'lifestream': [1, 5, 130], 'login': [3], 'people': [7, 13], 'places': [8, 14], 'sign': [9, 15, 32, 73, 120, 125, 132, 134], 'insign': [10], 'aim': [20], 'account': [23, 29, 43, 49], 'existing': [28, 48], 'facebook': [31, 51], 'start': [35], 'connecting': [36], 'networks': [39, 56, 67, 88], 'create': [41], 'stream': [53], 'multiple': [55], 'read': [58], 'comment': [60], 'post': [62], 'handy': [70], 'place': [71, 91], 'find': [77], 'now.on': [79], 'network': [81], 'search': [83], 'stay': [93], 'date': [96], \"you're\": [98], \"there's\": [103], 'app': [105], 'smartphone': [108], \"won't\": [112], 'miss': [113], 'thing': [115], 'learn': [117], 'simplifying': [122], 'social': [123], 'downloads': [131], 'feedback': [136], 'updated': [137, 141], 'terms': [138], 'service': [140], 'privacy': [142], 'policy': [143, 147], 'trademarks': [144], 'bulk': [145], 'email': [146], 'advertise': [148], 'ads': [153], 'aol.com': [154], '2012': [156], 'rights': [161], 'reserved': [162]}}\n"
     ]
    }
   ],
   "source": [
    "f = open(\"stoplist.txt\", \"r\") \n",
    "stoplist = f.read().splitlines() #Stoplist words\n",
    "\n",
    "for i in range(len(docs_words)):\n",
    "    for key in list(docs_words[i]):\n",
    "        if key in stoplist or len(key) == 1:\n",
    "            docs_words[i].pop(key,None)\n",
    "print(docs_words)            "
   ]
  },
  {
   "cell_type": "markdown",
   "metadata": {},
   "source": [
    "# Stemming "
   ]
  },
  {
   "cell_type": "code",
   "execution_count": 143,
   "metadata": {},
   "outputs": [
    {
     "name": "stdout",
     "output_type": "stream",
     "text": [
      "{0: {'dark': [0, 33, 48, 98, 120, 167, 183, 228], 'health': [2, 7, 41, 100, 329, 346, 399], 'good': [22, 173, 305], 'show': [27, 194], 'cardiovascular': [40, 151], 'cocoa': [51, 73, 109, 123, 170], 'sit': [52], 'green': [59], 'tea': [60], 'cacao': [69, 81, 385], 'grow': [78], 'tree': [82], 'full': [85], 'plant': [88], 'date': [96], 'highlight': [97], 'highest': [106], 'flavanol': [114], 'rich': [125], 'found': [133], 'read': [143, 207], 'cancer': [157], 'heart': [162, 176, 215, 357], 'recent': [163], 'short-term': [179], 'blood': [187, 191, 221, 247, 362], 'flow': [192], 'mild': [195], 'help': [200], 'prevent': [201], 'research': [210, 323], 'sweet': [217, 225, 358], 'news': [218, 359], 'sugar': [222, 248, 363], 'low': [232], 'index': [234, 406], 'similar': [235], 'oatmeal': [239], 'send': [245, 413, 442], 'find': [251, 320], 'treat': [261], 'vital': [263, 364], 'food': [268], 'array': [274], 'brain': [290, 313, 369], 'make': [302], 'feel': [304], 'function': [339], 'learn': [341], 'breakdown': [374], 'myth': [376], 'fact': [379], 'part': [380], 'diet': [384], 'ancient': [387], 'forefront': [392], 'legal': [401], 'info': [402], 'site': [405, 409], 'contact': [407], 'friend': [416], 'thank': [420, 449], 'owner': [430], 'email': [433, 447], 'address': [434], \"chocolate'\": [1, 99, 328, 343, 372], 'benefit': [3, 330], 'chocol': [4, 19, 30, 34, 49, 66, 121, 168, 184, 212, 229, 270, 280, 287, 301, 309, 366, 375, 393, 397], 'basic': [10, 12, 350], \"it'\": [13], 'wish': [16], 'think': [17], 'studi': [26, 94, 164, 347, 147], 'eat': [29], 'primarili': [32], 'contribut': [37], 'improv': [39, 190, 337], 'pack': [43], 'natur': [45, 87, 131, 271], 'antioxid': [46, 115, 128, 149, 118, 352], 'good-for-y': [56], 'categori': [57], 'blueberri': [62], \"that'\": [64], 'come': [67], 'bean': [70, 74], 'nutrient': [89, 285], 'valu': [101], 'percentag': [107], 'solid': [110], 'powerhous': [119, 353], 'cell-protect': [127], 'compound': [132], 'fruit': [135], 'veget': [137], 'grain': [139], 'nut': [141], 'scientist': [145, 389], 'regard': [148], 'diseas': [152], 'prematur': [154], 'age': [155], 'matter': [159, 354], 'clinic': [180], 'trial': [181], 'reduc': [186], 'pressur': [188], 'anti-clot': [196], 'effect': [197], 'plaqu': [202], 'format': [203], 'arteri': [205], 'manag': [220, 361], 'despit': [223], 'reput': [226], 'glycem': [233], 'mean': [241], 'spike': [249], 'surpris': [256], 'chemistri': [257], 'favorit': [260], 'miner': [264, 276, 365], 'plant-bas': [267], 'contain': [272], 'stack': [281], 'critic': [284], 'tast': [297], 'discov': [307], 'emerg': [315, 370], 'scienc': [316, 371], 'buoy': [317], 'posit': [319], 'conduct': [326], 'potenti': [333], 'cancer-fight': [334], 'abil': [335], 'cognit': [338], 'futur': [344], 'nutrit': [373], 'balanc': [383], 'medicin': [388], 'pet': [396], 'resourc': [400], 'privaci': [403, 411], 'polici': [404, 412], 'sponsor': [410], 'requir': [418], 'field': [419], 'messag': [423], 'sorri': [428], 'enter': [436], 'request': [438], 'unsolicit': [446]}, 1: {'aol': [0, 4, 22, 129, 157], 'lifestream': [1, 5, 130], 'login': [3], 'sign': [9, 15, 32, 73, 120, 125, 132, 134], 'insign': [10], 'aim': [20], 'account': [23, 29, 43, 49], 'facebook': [31, 51], 'start': [35], 'stream': [53], 'read': [58], 'comment': [60], 'post': [62], 'place': [71, 91, 8, 14], 'find': [77], 'now.on': [79], 'network': [81, 39, 56, 67, 88], 'search': [83], 'stay': [93], 'date': [96], 'app': [105], \"won't\": [112], 'miss': [113], 'thing': [115], 'learn': [117], 'social': [123], 'feedback': [136], 'bulk': [145], 'email': [146], 'aol.com': [154], '2012': [156], 'peopl': [7, 13], 'exist': [28, 48], 'connect': [36], 'creat': [41], 'multipl': [55], 'handi': [70], \"you'r\": [98], \"there'\": [103], 'smartphon': [108], 'simplifi': [122], 'download': [131], 'updat': [137, 141], 'term': [138], 'servic': [140], 'privaci': [142], 'polici': [143, 147], 'trademark': [144], 'advertis': [148], 'ad': [153], 'right': [161], 'reserv': [162]}, 2: {'aol': [0, 4, 22, 129, 157], 'lifestream': [1, 5, 130], 'login': [3], 'sign': [9, 15, 32, 73, 120, 125, 132, 134], 'insign': [10], 'aim': [20], 'account': [23, 29, 43, 49], 'facebook': [31, 51], 'start': [35], 'stream': [53], 'read': [58], 'comment': [60], 'post': [62], 'place': [71, 91, 8, 14], 'find': [77], 'now.on': [79], 'network': [81, 39, 56, 67, 88], 'search': [83], 'stay': [93], 'date': [96], 'app': [105], \"won't\": [112], 'miss': [113], 'thing': [115], 'learn': [117], 'social': [123], 'feedback': [136], 'bulk': [145], 'email': [146], 'aol.com': [154], '2012': [156], 'peopl': [7, 13], 'exist': [28, 48], 'connect': [36], 'creat': [41], 'multipl': [55], 'handi': [70], \"you'r\": [98], \"there'\": [103], 'smartphon': [108], 'simplifi': [122], 'download': [131], 'updat': [137, 141], 'term': [138], 'servic': [140], 'privaci': [142], 'polici': [143, 147], 'trademark': [144], 'advertis': [148], 'ad': [153], 'right': [161], 'reserv': [162]}}\n"
     ]
    }
   ],
   "source": [
    "ps = PorterStemmer()\n",
    "for i in range(len(docs_words)):\n",
    "    for key in list(docs_words[i]):\n",
    "        stem = ps.stem(key)\n",
    "        if stem != key:\n",
    "            if stem not in docs_words[i].keys():\n",
    "                docs_words[i][stem] = docs_words[i].pop(key)\n",
    "            elif stem in docs_words[i].keys():\n",
    "                docs_words[i][stem] = docs_words[i][stem] + docs_words[i].pop(key)\n",
    "            \n",
    "print(docs_words)        "
   ]
  },
  {
   "cell_type": "markdown",
   "metadata": {},
   "source": [
    "# Inverted Index"
   ]
  },
  {
   "cell_type": "code",
   "execution_count": 154,
   "metadata": {},
   "outputs": [
    {
     "name": "stdout",
     "output_type": "stream",
     "text": [
      "{'dark': {0: [0, 33, 48, 98, 120, 167, 183, 228]}, 'health': {0: [2, 7, 41, 100, 329, 346, 399]}, 'good': {0: [22, 173, 305]}, 'show': {0: [27, 194]}, 'cardiovascular': {0: [40, 151]}, 'cocoa': {0: [51, 73, 109, 123, 170]}, 'sit': {0: [52]}, 'green': {0: [59]}, 'tea': {0: [60]}, 'cacao': {0: [69, 81, 385]}, 'grow': {0: [78]}, 'tree': {0: [82]}, 'full': {0: [85]}, 'plant': {0: [88]}, 'date': {0: [96], 1: [96], 2: [96]}, 'highlight': {0: [97]}, 'highest': {0: [106]}, 'flavanol': {0: [114]}, 'rich': {0: [125]}, 'found': {0: [133]}, 'read': {0: [143, 207], 1: [58], 2: [58]}, 'cancer': {0: [157]}, 'heart': {0: [162, 176, 215, 357]}, 'recent': {0: [163]}, 'short-term': {0: [179]}, 'blood': {0: [187, 191, 221, 247, 362]}, 'flow': {0: [192]}, 'mild': {0: [195]}, 'help': {0: [200]}, 'prevent': {0: [201]}, 'research': {0: [210, 323]}, 'sweet': {0: [217, 225, 358]}, 'news': {0: [218, 359]}, 'sugar': {0: [222, 248, 363]}, 'low': {0: [232]}, 'index': {0: [234, 406]}, 'similar': {0: [235]}, 'oatmeal': {0: [239]}, 'send': {0: [245, 413, 442]}, 'find': {0: [251, 320], 1: [77], 2: [77]}, 'treat': {0: [261]}, 'vital': {0: [263, 364]}, 'food': {0: [268]}, 'array': {0: [274]}, 'brain': {0: [290, 313, 369]}, 'make': {0: [302]}, 'feel': {0: [304]}, 'function': {0: [339]}, 'learn': {0: [341], 1: [117], 2: [117]}, 'breakdown': {0: [374]}, 'myth': {0: [376]}, 'fact': {0: [379]}, 'part': {0: [380]}, 'diet': {0: [384]}, 'ancient': {0: [387]}, 'forefront': {0: [392]}, 'legal': {0: [401]}, 'info': {0: [402]}, 'site': {0: [405, 409]}, 'contact': {0: [407]}, 'friend': {0: [416]}, 'thank': {0: [420, 449]}, 'owner': {0: [430]}, 'email': {0: [433, 447], 1: [146], 2: [146]}, 'address': {0: [434]}, \"chocolate'\": {0: [1, 99, 328, 343, 372]}, 'benefit': {0: [3, 330]}, 'chocol': {0: [4, 19, 30, 34, 49, 66, 121, 168, 184, 212, 229, 270, 280, 287, 301, 309, 366, 375, 393, 397]}, 'basic': {0: [10, 12, 350]}, \"it'\": {0: [13]}, 'wish': {0: [16]}, 'think': {0: [17]}, 'studi': {0: [26, 94, 164, 347, 147]}, 'eat': {0: [29]}, 'primarili': {0: [32]}, 'contribut': {0: [37]}, 'improv': {0: [39, 190, 337]}, 'pack': {0: [43]}, 'natur': {0: [45, 87, 131, 271]}, 'antioxid': {0: [46, 115, 128, 149, 118, 352]}, 'good-for-y': {0: [56]}, 'categori': {0: [57]}, 'blueberri': {0: [62]}, \"that'\": {0: [64]}, 'come': {0: [67]}, 'bean': {0: [70, 74]}, 'nutrient': {0: [89, 285]}, 'valu': {0: [101]}, 'percentag': {0: [107]}, 'solid': {0: [110]}, 'powerhous': {0: [119, 353]}, 'cell-protect': {0: [127]}, 'compound': {0: [132]}, 'fruit': {0: [135]}, 'veget': {0: [137]}, 'grain': {0: [139]}, 'nut': {0: [141]}, 'scientist': {0: [145, 389]}, 'regard': {0: [148]}, 'diseas': {0: [152]}, 'prematur': {0: [154]}, 'age': {0: [155]}, 'matter': {0: [159, 354]}, 'clinic': {0: [180]}, 'trial': {0: [181]}, 'reduc': {0: [186]}, 'pressur': {0: [188]}, 'anti-clot': {0: [196]}, 'effect': {0: [197]}, 'plaqu': {0: [202]}, 'format': {0: [203]}, 'arteri': {0: [205]}, 'manag': {0: [220, 361]}, 'despit': {0: [223]}, 'reput': {0: [226]}, 'glycem': {0: [233]}, 'mean': {0: [241]}, 'spike': {0: [249]}, 'surpris': {0: [256]}, 'chemistri': {0: [257]}, 'favorit': {0: [260]}, 'miner': {0: [264, 276, 365]}, 'plant-bas': {0: [267]}, 'contain': {0: [272]}, 'stack': {0: [281]}, 'critic': {0: [284]}, 'tast': {0: [297]}, 'discov': {0: [307]}, 'emerg': {0: [315, 370]}, 'scienc': {0: [316, 371]}, 'buoy': {0: [317]}, 'posit': {0: [319]}, 'conduct': {0: [326]}, 'potenti': {0: [333]}, 'cancer-fight': {0: [334]}, 'abil': {0: [335]}, 'cognit': {0: [338]}, 'futur': {0: [344]}, 'nutrit': {0: [373]}, 'balanc': {0: [383]}, 'medicin': {0: [388]}, 'pet': {0: [396]}, 'resourc': {0: [400]}, 'privaci': {0: [403, 411], 1: [142], 2: [142]}, 'polici': {0: [404, 412], 1: [143, 147], 2: [143, 147]}, 'sponsor': {0: [410]}, 'requir': {0: [418]}, 'field': {0: [419]}, 'messag': {0: [423]}, 'sorri': {0: [428]}, 'enter': {0: [436]}, 'request': {0: [438]}, 'unsolicit': {0: [446]}, 'aol': {1: [0, 4, 22, 129, 157], 2: [0, 4, 22, 129, 157]}, 'lifestream': {1: [1, 5, 130], 2: [1, 5, 130]}, 'login': {1: [3], 2: [3]}, 'sign': {1: [9, 15, 32, 73, 120, 125, 132, 134], 2: [9, 15, 32, 73, 120, 125, 132, 134]}, 'insign': {1: [10], 2: [10]}, 'aim': {1: [20], 2: [20]}, 'account': {1: [23, 29, 43, 49], 2: [23, 29, 43, 49]}, 'facebook': {1: [31, 51], 2: [31, 51]}, 'start': {1: [35], 2: [35]}, 'stream': {1: [53], 2: [53]}, 'comment': {1: [60], 2: [60]}, 'post': {1: [62], 2: [62]}, 'place': {1: [71, 91, 8, 14], 2: [71, 91, 8, 14]}, 'now.on': {1: [79], 2: [79]}, 'network': {1: [81, 39, 56, 67, 88], 2: [81, 39, 56, 67, 88]}, 'search': {1: [83], 2: [83]}, 'stay': {1: [93], 2: [93]}, 'app': {1: [105], 2: [105]}, \"won't\": {1: [112], 2: [112]}, 'miss': {1: [113], 2: [113]}, 'thing': {1: [115], 2: [115]}, 'social': {1: [123], 2: [123]}, 'feedback': {1: [136], 2: [136]}, 'bulk': {1: [145], 2: [145]}, 'aol.com': {1: [154], 2: [154]}, '2012': {1: [156], 2: [156]}, 'peopl': {1: [7, 13], 2: [7, 13]}, 'exist': {1: [28, 48], 2: [28, 48]}, 'connect': {1: [36], 2: [36]}, 'creat': {1: [41], 2: [41]}, 'multipl': {1: [55], 2: [55]}, 'handi': {1: [70], 2: [70]}, \"you'r\": {1: [98], 2: [98]}, \"there'\": {1: [103], 2: [103]}, 'smartphon': {1: [108], 2: [108]}, 'simplifi': {1: [122], 2: [122]}, 'download': {1: [131], 2: [131]}, 'updat': {1: [137, 141], 2: [137, 141]}, 'term': {1: [138], 2: [138]}, 'servic': {1: [140], 2: [140]}, 'trademark': {1: [144], 2: [144]}, 'advertis': {1: [148], 2: [148]}, 'ad': {1: [153], 2: [153]}, 'right': {1: [161], 2: [161]}, 'reserv': {1: [162], 2: [162]}}\n"
     ]
    }
   ],
   "source": [
    "words_docs = {}\n",
    "\n",
    "for i in range(len(docs_words)):\n",
    "    for key in docs_words[i].keys():\n",
    "        docs_pos = {}\n",
    "        docs_pos[i] = docs_words[i].get(key)\n",
    "        if key not in words_docs.keys():\n",
    "            words_docs[key] = docs_pos\n",
    "        elif key in words_docs.keys():\n",
    "             words_docs[key][i] = docs_pos[i]\n",
    "\n",
    "print(words_docs)        "
   ]
  },
  {
   "cell_type": "code",
   "execution_count": 156,
   "metadata": {},
   "outputs": [
    {
     "name": "stdout",
     "output_type": "stream",
     "text": [
      "dict_values([{0: [0, 33, 48, 98, 120, 167, 183, 228]}, {0: [2, 7, 41, 100, 329, 346, 399]}, {0: [22, 173, 305]}, {0: [27, 194]}, {0: [40, 151]}, {0: [51, 73, 109, 123, 170]}, {0: [52]}, {0: [59]}, {0: [60]}, {0: [69, 81, 385]}, {0: [78]}, {0: [82]}, {0: [85]}, {0: [88]}, {0: [96], 1: [96], 2: [96]}, {0: [97]}, {0: [106]}, {0: [114]}, {0: [125]}, {0: [133]}, {0: [143, 207], 1: [58], 2: [58]}, {0: [157]}, {0: [162, 176, 215, 357]}, {0: [163]}, {0: [179]}, {0: [187, 191, 221, 247, 362]}, {0: [192]}, {0: [195]}, {0: [200]}, {0: [201]}, {0: [210, 323]}, {0: [217, 225, 358]}, {0: [218, 359]}, {0: [222, 248, 363]}, {0: [232]}, {0: [234, 406]}, {0: [235]}, {0: [239]}, {0: [245, 413, 442]}, {0: [251, 320], 1: [77], 2: [77]}, {0: [261]}, {0: [263, 364]}, {0: [268]}, {0: [274]}, {0: [290, 313, 369]}, {0: [302]}, {0: [304]}, {0: [339]}, {0: [341], 1: [117], 2: [117]}, {0: [374]}, {0: [376]}, {0: [379]}, {0: [380]}, {0: [384]}, {0: [387]}, {0: [392]}, {0: [401]}, {0: [402]}, {0: [405, 409]}, {0: [407]}, {0: [416]}, {0: [420, 449]}, {0: [430]}, {0: [433, 447], 1: [146], 2: [146]}, {0: [434]}, {0: [1, 99, 328, 343, 372]}, {0: [3, 330]}, {0: [4, 19, 30, 34, 49, 66, 121, 168, 184, 212, 229, 270, 280, 287, 301, 309, 366, 375, 393, 397]}, {0: [10, 12, 350]}, {0: [13]}, {0: [16]}, {0: [17]}, {0: [26, 94, 164, 347, 147]}, {0: [29]}, {0: [32]}, {0: [37]}, {0: [39, 190, 337]}, {0: [43]}, {0: [45, 87, 131, 271]}, {0: [46, 115, 128, 149, 118, 352]}, {0: [56]}, {0: [57]}, {0: [62]}, {0: [64]}, {0: [67]}, {0: [70, 74]}, {0: [89, 285]}, {0: [101]}, {0: [107]}, {0: [110]}, {0: [119, 353]}, {0: [127]}, {0: [132]}, {0: [135]}, {0: [137]}, {0: [139]}, {0: [141]}, {0: [145, 389]}, {0: [148]}, {0: [152]}, {0: [154]}, {0: [155]}, {0: [159, 354]}, {0: [180]}, {0: [181]}, {0: [186]}, {0: [188]}, {0: [196]}, {0: [197]}, {0: [202]}, {0: [203]}, {0: [205]}, {0: [220, 361]}, {0: [223]}, {0: [226]}, {0: [233]}, {0: [241]}, {0: [249]}, {0: [256]}, {0: [257]}, {0: [260]}, {0: [264, 276, 365]}, {0: [267]}, {0: [272]}, {0: [281]}, {0: [284]}, {0: [297]}, {0: [307]}, {0: [315, 370]}, {0: [316, 371]}, {0: [317]}, {0: [319]}, {0: [326]}, {0: [333]}, {0: [334]}, {0: [335]}, {0: [338]}, {0: [344]}, {0: [373]}, {0: [383]}, {0: [388]}, {0: [396]}, {0: [400]}, {0: [403, 411], 1: [142], 2: [142]}, {0: [404, 412], 1: [143, 147], 2: [143, 147]}, {0: [410]}, {0: [418]}, {0: [419]}, {0: [423]}, {0: [428]}, {0: [436]}, {0: [438]}, {0: [446]}, {1: [0, 4, 22, 129, 157], 2: [0, 4, 22, 129, 157]}, {1: [1, 5, 130], 2: [1, 5, 130]}, {1: [3], 2: [3]}, {1: [9, 15, 32, 73, 120, 125, 132, 134], 2: [9, 15, 32, 73, 120, 125, 132, 134]}, {1: [10], 2: [10]}, {1: [20], 2: [20]}, {1: [23, 29, 43, 49], 2: [23, 29, 43, 49]}, {1: [31, 51], 2: [31, 51]}, {1: [35], 2: [35]}, {1: [53], 2: [53]}, {1: [60], 2: [60]}, {1: [62], 2: [62]}, {1: [71, 91, 8, 14], 2: [71, 91, 8, 14]}, {1: [79], 2: [79]}, {1: [81, 39, 56, 67, 88], 2: [81, 39, 56, 67, 88]}, {1: [83], 2: [83]}, {1: [93], 2: [93]}, {1: [105], 2: [105]}, {1: [112], 2: [112]}, {1: [113], 2: [113]}, {1: [115], 2: [115]}, {1: [123], 2: [123]}, {1: [136], 2: [136]}, {1: [145], 2: [145]}, {1: [154], 2: [154]}, {1: [156], 2: [156]}, {1: [7, 13], 2: [7, 13]}, {1: [28, 48], 2: [28, 48]}, {1: [36], 2: [36]}, {1: [41], 2: [41]}, {1: [55], 2: [55]}, {1: [70], 2: [70]}, {1: [98], 2: [98]}, {1: [103], 2: [103]}, {1: [108], 2: [108]}, {1: [122], 2: [122]}, {1: [131], 2: [131]}, {1: [137, 141], 2: [137, 141]}, {1: [138], 2: [138]}, {1: [140], 2: [140]}, {1: [144], 2: [144]}, {1: [148], 2: [148]}, {1: [153], 2: [153]}, {1: [161], 2: [161]}, {1: [162], 2: [162]}])\n"
     ]
    }
   ],
   "source": []
  },
  {
   "cell_type": "code",
   "execution_count": null,
   "metadata": {},
   "outputs": [],
   "source": []
  }
 ],
 "metadata": {
  "kernelspec": {
   "display_name": "Python 3",
   "language": "python",
   "name": "python3"
  },
  "language_info": {
   "codemirror_mode": {
    "name": "ipython",
    "version": 3
   },
   "file_extension": ".py",
   "mimetype": "text/x-python",
   "name": "python",
   "nbconvert_exporter": "python",
   "pygments_lexer": "ipython3",
   "version": "3.7.3"
  }
 },
 "nbformat": 4,
 "nbformat_minor": 2
}
