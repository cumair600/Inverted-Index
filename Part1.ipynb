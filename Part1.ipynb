{
 "cells": [
  {
   "cell_type": "markdown",
   "metadata": {},
   "source": [
    "# Importing Libraries"
   ]
  },
  {
   "cell_type": "code",
   "execution_count": 73,
   "metadata": {},
   "outputs": [],
   "source": [
    "from urllib.request import urlopen\n",
    "from bs4 import BeautifulSoup\n",
    "import os\n",
    "import nltk\n",
    "from nltk.tokenize import word_tokenize\n",
    "from nltk.tokenize import TweetTokenizer\n",
    "from nltk.stem import PorterStemmer \n",
    "\n",
    "#nltk.download('all')"
   ]
  },
  {
   "cell_type": "markdown",
   "metadata": {},
   "source": [
    "# Reading Docs"
   ]
  },
  {
   "cell_type": "code",
   "execution_count": 74,
   "metadata": {},
   "outputs": [
    {
     "name": "stdout",
     "output_type": "stream",
     "text": [
      "Docs/file1\n",
      "Docs/file2\n",
      "Docs/file3.txt\n"
     ]
    }
   ],
   "source": [
    "path = \"Docs/\"\n",
    "\n",
    "files = []\n",
    "# r=root, d=directories, f = files\n",
    "for r, d, f in os.walk(path):\n",
    "    for file in f:\n",
    "        files.append(os.path.join(r, file))\n",
    "    \n",
    "for f in files:\n",
    "    print(f)"
   ]
  },
  {
   "cell_type": "markdown",
   "metadata": {},
   "source": [
    "# Removing Headers and HTML Tags, Tokenization, Lower Casing, StopListing, Stemming"
   ]
  },
  {
   "cell_type": "code",
   "execution_count": 77,
   "metadata": {},
   "outputs": [
    {
     "name": "stdout",
     "output_type": "stream",
     "text": [
      "{0: {'dark': [0, 33, 48, 98, 120, 167, 183, 228], \"chocolate's\": [1, 99, 328, 343, 372], 'health': [2, 7, 41, 100, 329, 346, 399], 'benefits': [3, 330], 'chocolate': [4, 19, 30, 34, 49, 66, 121, 168, 184, 212, 229, 270, 280, 287, 301, 309, 366, 375, 393, 397], 'and': [5, 50, 61, 83, 122, 140, 150, 156, 169, 198, 213, 288, 336, 367, 386, 394, 398], 'your': [6, 175, 214, 246, 259, 289, 312, 368, 395, 422], ':': [8], 'the': [9, 11, 54, 80, 93, 105, 161, 209, 255, 296, 349, 356, 391, 429, 432], 'basics': [10, 12, 350], \"it's\": [13], 'more': [14, 113, 253, 293, 322], 'than': [15, 294], 'wishful': [16], 'thinking': [17], '—': [18, 240], 'can': [20], 'be': [21, 172], 'good': [22, 173, 305], 'for': [23, 174, 219, 360], 'you': [24, 421, 435, 450], '.': [25, 42, 63, 90, 116, 142, 158, 177, 206, 216, 250, 262, 277, 286, 314, 340, 348, 378, 427, 448, 451], 'studies': [26, 94, 164, 347], 'show': [27], 'that': [28, 237, 439], 'eating': [29], ',': [31, 35, 47, 76, 111, 136, 138, 153, 182, 189, 193, 227, 269, 321, 331], 'primarily': [32], 'may': [36, 171, 199], 'contribute': [37], 'to': [38, 95, 236, 311, 414], 'improved': [39, 190, 337], 'cardiovascular': [40, 151], 'packed': [43], 'with': [44], 'natural': [45, 87, 131], 'antioxidants': [46, 115, 128, 149], 'cocoa': [51, 73, 109, 123, 170], 'sit': [52], 'in': [53, 126, 134, 178, 204, 283, 345], 'same': [55], 'good-for-you': [56], 'category': [57], 'as': [58], 'green': [59], 'tea': [60], 'blueberries': [62], \"that's\": [64], 'because': [65, 102], 'comes': [67], 'from': [68], 'cacao': [69, 81, 385], 'beans': [70, 74], '(': [71], 'or': [72, 444], ')': [75], 'which': [77], 'grow': [78], 'on': [79, 211, 327, 390], 'tree': [82], 'are': [84, 124, 146], 'full': [85], 'of': [86, 92, 108, 160, 238, 275, 355, 381, 431], 'plant': [88], 'nutrients': [89, 285], 'most': [91], 'date': [96], 'highlight': [97], 'values': [101], 'it': [103, 242, 292], 'has': [104, 185, 230, 424, 437], 'highest': [106], 'percentage': [107], 'solids': [110], 'therefore': [112], 'flavanol': [114], 'an': [117, 273, 351], 'antioxidant': [118, 352], 'powerhouse': [119, 353], 'rich': [125], 'cell-protecting': [127], '-': [129, 130], 'compounds': [132], 'found': [133], 'fruits': [135], 'vegetables': [137], 'grains': [139], 'nuts': [141], 'read': [143, 207], 'what': [144, 308], 'scientists': [145, 389], 'studying': [147], 'regarding': [148], 'disease': [152], 'premature': [154], 'aging': [155], 'cancer': [157], 'matters': [159, 354], 'heart': [162, 176, 215, 357], 'recent': [163], 'have': [165], 'shown': [166], 'short-term': [179], 'clinical': [180], 'trials': [181], 'reduced': [186], 'blood': [187, 191, 221, 247, 362], 'pressure': [188], 'flow': [192], 'showed': [194], 'mild': [195], 'anti-clotting': [196], 'effects': [197], 'help': [200], 'prevent': [201], 'plaque': [202], 'formation': [203], 'arteries': [205], 'about': [208, 254, 342], 'research': [210, 323], 'sweet': [217, 225, 358], 'news': [218, 359], 'managing': [220, 361], 'sugar': [222, 248, 363], 'despite': [223], 'its': [224], 'reputation': [226], 'a': [231, 382, 415], 'low': [232], 'glycemic': [233], 'index': [234, 406], 'similar': [235], 'oatmeal': [239], 'meaning': [241], 'does': [243, 300, 310], 'not': [244, 441], 'send': [245, 413, 442], 'spiking': [249], 'find': [251], 'out': [252], 'surprising': [256], 'chemistry': [257], 'behind': [258], 'favorite': [260], 'treat': [261], 'vital': [263, 364], 'minerals': [264, 276, 365], 'like': [265], 'any': [266], 'plant-based': [267], 'food': [268], 'naturally': [271], 'contains': [272], 'array': [274], 'see': [278], 'how': [279], 'stacks': [281], 'up': [282], 'critical': [284], 'brain': [290, 313, 369], 'is': [291, 324], 'just': [295], 'taste': [297], '?': [298, 306], 'why': [299], 'make': [302], 'us': [303, 408], 'feel': [304], 'discover': [307], 'emerging': [315, 370], 'science': [316, 371], 'buoyed': [317], 'by': [318], 'positive': [319], 'findings': [320], 'being': [325], 'conducted': [326], 'including': [332], 'potential': [333], 'cancer-fighting': [334], 'abilities': [335], 'cognitive': [338], 'function': [339], 'learn': [341], 'future': [344], 'nutritional': [373], 'breakdown': [374], 'myth': [376], 'vs': [377], 'fact': [379], 'part': [380], 'balanced': [383], 'diet': [384], 'ancient': [387], 'medicine': [388], 'forefront': [392], 'pets': [396], 'resources': [400], 'legal': [401], 'info': [402], 'privacy': [403, 411], 'policy': [404, 412], 'site': [405, 409], 'contact': [407], 'sponsors': [410], 'friend': [416], '*': [417], 'required': [418], 'fields': [419], 'thank': [420, 449], 'message': [423], 'been': [425], 'sent': [426], 'sorry': [428], 'owner': [430], 'email': [433], 'address': [434], 'entered': [436], 'requested': [438], 'we': [440], 'him': [443], 'her': [445], 'unsolicited': [446], 'emails': [447]}, 1: {'aol': [0, 4, 22, 129, 157], 'lifestream': [1, 5, 130], ':': [2, 24, 30, 50], 'login': [3], 'everything': [6, 12], 'people': [7, 13], 'places': [8, 14], 'sign': [9, 15, 32, 73, 120, 125, 132, 134], 'insign': [10], 'up': [11, 33, 74, 94, 121, 126, 133], 'in': [16, 135], 'to': [17, 63, 95], 'use': [18, 26, 46], 'your': [19, 27, 38, 47, 66, 87, 107], 'aim': [20], 'or': [21, 25, 45], 'account': [23, 29, 43, 49], 'existing': [28, 48], 'facebook': [31, 51], 'with': [34, 149], 'start': [35], 'connecting': [36], 'all': [37, 64, 85, 160], 'networks': [39, 56, 67, 88], '!': [40, 44, 76, 116, 128], 'create': [41], 'an': [42, 104], 'one': [52, 69, 90], 'stream': [53], ',': [54, 59, 109], 'multiple': [55], '.': [57, 72, 82, 92, 102, 124, 159, 163], 'read': [58], 'comment': [60], 'and': [61], 'post': [62], 'of': [65, 86, 139], 'from': [68, 89], 'handy': [70], 'place': [71, 91], 'now': [75, 127], 'find': [77], 'it': [78], 'now.on': [79], 'any': [80], 'network': [81], 'search': [83], 'across': [84], 'stay': [93], 'date': [96], 'when': [97], \"you're\": [98], 'on': [99], 'the': [100], 'go': [101], \"there's\": [103], 'app': [105], 'for': [106], 'smartphone': [108], 'so': [110], 'you': [111], \"won't\": [112], 'miss': [113], 'a': [114], 'thing': [115], 'learn': [117], 'more': [118], '»': [119], 'simplifying': [122], 'social': [123], 'downloads': [131], 'feedback': [136], 'updated': [137, 141], 'terms': [138], 'service': [140], 'privacy': [142], 'policy': [143, 147], 'trademarks': [144], 'bulk': [145], 'email': [146], 'advertise': [148], 'us': [150], 'about': [151], 'our': [152], 'ads': [153], 'aol.com': [154], '©': [155], '2012': [156], 'inc': [158], 'rights': [161], 'reserved': [162]}, 2: {'aol': [0, 4, 22, 129, 157], 'lifestream': [1, 5, 130], ':': [2, 24, 30, 50], 'login': [3], 'everything': [6, 12], 'people': [7, 13], 'places': [8, 14], 'sign': [9, 15, 32, 73, 120, 125, 132, 134], 'insign': [10], 'up': [11, 33, 74, 94, 121, 126, 133], 'in': [16, 135], 'to': [17, 63, 95], 'use': [18, 26, 46], 'your': [19, 27, 38, 47, 66, 87, 107], 'aim': [20], 'or': [21, 25, 45], 'account': [23, 29, 43, 49], 'existing': [28, 48], 'facebook': [31, 51], 'with': [34, 149], 'start': [35], 'connecting': [36], 'all': [37, 64, 85, 160], 'networks': [39, 56, 67, 88], '!': [40, 44, 76, 116, 128], 'create': [41], 'an': [42, 104], 'one': [52, 69, 90], 'stream': [53], ',': [54, 59, 109], 'multiple': [55], '.': [57, 72, 82, 92, 102, 124, 159, 163], 'read': [58], 'comment': [60], 'and': [61], 'post': [62], 'of': [65, 86, 139], 'from': [68, 89], 'handy': [70], 'place': [71, 91], 'now': [75, 127], 'find': [77], 'it': [78], 'now.on': [79], 'any': [80], 'network': [81], 'search': [83], 'across': [84], 'stay': [93], 'date': [96], 'when': [97], \"you're\": [98], 'on': [99], 'the': [100], 'go': [101], \"there's\": [103], 'app': [105], 'for': [106], 'smartphone': [108], 'so': [110], 'you': [111], \"won't\": [112], 'miss': [113], 'a': [114], 'thing': [115], 'learn': [117], 'more': [118], '»': [119], 'simplifying': [122], 'social': [123], 'downloads': [131], 'feedback': [136], 'updated': [137, 141], 'terms': [138], 'service': [140], 'privacy': [142], 'policy': [143, 147], 'trademarks': [144], 'bulk': [145], 'email': [146], 'advertise': [148], 'us': [150], 'about': [151], 'our': [152], 'ads': [153], 'aol.com': [154], '©': [155], '2012': [156], 'inc': [158], 'rights': [161], 'reserved': [162]}}\n"
     ]
    }
   ],
   "source": [
    "docs_words = {}\n",
    "i = 0 #for docs_words\n",
    "\n",
    "for f in files:\n",
    "    doc = open(f,\"r\")\n",
    "    html = doc.read()\n",
    "    \n",
    "    index = html.find(\"<html\")\n",
    "    if index == -1 :\n",
    "        html.find(\"<Html\")\n",
    "    elif index == -1 : \n",
    "        html.find(\"<HTML\")\n",
    "    html = html[index:]\n",
    "\n",
    "    soup = BeautifulSoup(html)\n",
    "\n",
    "    # kill all script and style elements\n",
    "    for script in soup([\"script\", \"style\"]):\n",
    "        script.extract()    # rip it out\n",
    "\n",
    "    # get text\n",
    "    text = soup.get_text()\n",
    "\n",
    "    # break into lines and remove leading and trailing space on each\n",
    "    lines = (line.strip() for line in text.splitlines())\n",
    "    # break multi-headlines into a line each\n",
    "    chunks = (phrase.strip() for line in lines for phrase in line.split(\"  \"))\n",
    "    # drop blank lines\n",
    "    text = '\\n'.join(chunk for chunk in chunks if chunk)\n",
    "    \n",
    "    #print(\"Doc : \" + text + \"\\n\\n\")\n",
    "    tknzr = TweetTokenizer()\n",
    "    tokens = tknzr.tokenize(text)\n",
    "    words_pos = {}\n",
    "    j = 0; #for words_pos\n",
    "    for t in tokens:\n",
    "        t = t.lower() #lowering Case\n",
    "        \n",
    "        if t not in words_pos.keys():\n",
    "            words_pos[t] = []\n",
    "        if t in words_pos.keys():\n",
    "            words_pos[t].append(j)\n",
    "        j = j + 1\n",
    "    \n",
    "    docs_words[i] = words_pos\n",
    "    i = i + 1\n",
    "\n",
    "print(docs_words) "
   ]
  },
  {
   "cell_type": "markdown",
   "metadata": {},
   "source": [
    "# Removing stop words"
   ]
  },
  {
   "cell_type": "code",
   "execution_count": 79,
   "metadata": {},
   "outputs": [
    {
     "name": "stdout",
     "output_type": "stream",
     "text": [
      "{0: {'dark': [0, 33, 48, 98, 120, 167, 183, 228], \"chocolate's\": [1, 99, 328, 343, 372], 'health': [2, 7, 41, 100, 329, 346, 399], 'benefits': [3, 330], 'chocolate': [4, 19, 30, 34, 49, 66, 121, 168, 184, 212, 229, 270, 280, 287, 301, 309, 366, 375, 393, 397], 'basics': [10, 12, 350], \"it's\": [13], 'wishful': [16], 'thinking': [17], 'good': [22, 173, 305], 'studies': [26, 94, 164, 347], 'show': [27], 'eating': [29], 'primarily': [32], 'contribute': [37], 'improved': [39, 190, 337], 'cardiovascular': [40, 151], 'packed': [43], 'natural': [45, 87, 131], 'antioxidants': [46, 115, 128, 149], 'cocoa': [51, 73, 109, 123, 170], 'sit': [52], 'good-for-you': [56], 'category': [57], 'green': [59], 'tea': [60], 'blueberries': [62], \"that's\": [64], 'comes': [67], 'cacao': [69, 81, 385], 'beans': [70, 74], 'grow': [78], 'tree': [82], 'full': [85], 'plant': [88], 'nutrients': [89, 285], 'date': [96], 'highlight': [97], 'values': [101], 'highest': [106], 'percentage': [107], 'solids': [110], 'flavanol': [114], 'antioxidant': [118, 352], 'powerhouse': [119, 353], 'rich': [125], 'cell-protecting': [127], 'compounds': [132], 'found': [133], 'fruits': [135], 'vegetables': [137], 'grains': [139], 'nuts': [141], 'read': [143, 207], 'scientists': [145, 389], 'studying': [147], 'regarding': [148], 'disease': [152], 'premature': [154], 'aging': [155], 'cancer': [157], 'matters': [159, 354], 'heart': [162, 176, 215, 357], 'recent': [163], 'short-term': [179], 'clinical': [180], 'trials': [181], 'reduced': [186], 'blood': [187, 191, 221, 247, 362], 'pressure': [188], 'flow': [192], 'showed': [194], 'mild': [195], 'anti-clotting': [196], 'effects': [197], 'help': [200], 'prevent': [201], 'plaque': [202], 'formation': [203], 'arteries': [205], 'research': [210, 323], 'sweet': [217, 225, 358], 'news': [218, 359], 'managing': [220, 361], 'sugar': [222, 248, 363], 'despite': [223], 'reputation': [226], 'low': [232], 'glycemic': [233], 'index': [234, 406], 'similar': [235], 'oatmeal': [239], 'meaning': [241], 'send': [245, 413, 442], 'spiking': [249], 'find': [251], 'surprising': [256], 'chemistry': [257], 'favorite': [260], 'treat': [261], 'vital': [263, 364], 'minerals': [264, 276, 365], 'plant-based': [267], 'food': [268], 'naturally': [271], 'contains': [272], 'array': [274], 'stacks': [281], 'critical': [284], 'brain': [290, 313, 369], 'taste': [297], 'make': [302], 'feel': [304], 'discover': [307], 'emerging': [315, 370], 'science': [316, 371], 'buoyed': [317], 'positive': [319], 'findings': [320], 'conducted': [326], 'potential': [333], 'cancer-fighting': [334], 'abilities': [335], 'cognitive': [338], 'function': [339], 'learn': [341], 'future': [344], 'nutritional': [373], 'breakdown': [374], 'myth': [376], 'fact': [379], 'part': [380], 'balanced': [383], 'diet': [384], 'ancient': [387], 'medicine': [388], 'forefront': [392], 'pets': [396], 'resources': [400], 'legal': [401], 'info': [402], 'privacy': [403, 411], 'policy': [404, 412], 'site': [405, 409], 'contact': [407], 'sponsors': [410], 'friend': [416], 'required': [418], 'fields': [419], 'thank': [420, 449], 'message': [423], 'sorry': [428], 'owner': [430], 'email': [433], 'address': [434], 'entered': [436], 'requested': [438], 'unsolicited': [446], 'emails': [447]}, 1: {'aol': [0, 4, 22, 129, 157], 'lifestream': [1, 5, 130], 'login': [3], 'people': [7, 13], 'places': [8, 14], 'sign': [9, 15, 32, 73, 120, 125, 132, 134], 'insign': [10], 'aim': [20], 'account': [23, 29, 43, 49], 'existing': [28, 48], 'facebook': [31, 51], 'start': [35], 'connecting': [36], 'networks': [39, 56, 67, 88], 'create': [41], 'stream': [53], 'multiple': [55], 'read': [58], 'comment': [60], 'post': [62], 'handy': [70], 'place': [71, 91], 'find': [77], 'now.on': [79], 'network': [81], 'search': [83], 'stay': [93], 'date': [96], \"you're\": [98], \"there's\": [103], 'app': [105], 'smartphone': [108], \"won't\": [112], 'miss': [113], 'thing': [115], 'learn': [117], 'simplifying': [122], 'social': [123], 'downloads': [131], 'feedback': [136], 'updated': [137, 141], 'terms': [138], 'service': [140], 'privacy': [142], 'policy': [143, 147], 'trademarks': [144], 'bulk': [145], 'email': [146], 'advertise': [148], 'ads': [153], 'aol.com': [154], '2012': [156], 'rights': [161], 'reserved': [162]}, 2: {'aol': [0, 4, 22, 129, 157], 'lifestream': [1, 5, 130], 'login': [3], 'people': [7, 13], 'places': [8, 14], 'sign': [9, 15, 32, 73, 120, 125, 132, 134], 'insign': [10], 'aim': [20], 'account': [23, 29, 43, 49], 'existing': [28, 48], 'facebook': [31, 51], 'start': [35], 'connecting': [36], 'networks': [39, 56, 67, 88], 'create': [41], 'stream': [53], 'multiple': [55], 'read': [58], 'comment': [60], 'post': [62], 'handy': [70], 'place': [71, 91], 'find': [77], 'now.on': [79], 'network': [81], 'search': [83], 'stay': [93], 'date': [96], \"you're\": [98], \"there's\": [103], 'app': [105], 'smartphone': [108], \"won't\": [112], 'miss': [113], 'thing': [115], 'learn': [117], 'simplifying': [122], 'social': [123], 'downloads': [131], 'feedback': [136], 'updated': [137, 141], 'terms': [138], 'service': [140], 'privacy': [142], 'policy': [143, 147], 'trademarks': [144], 'bulk': [145], 'email': [146], 'advertise': [148], 'ads': [153], 'aol.com': [154], '2012': [156], 'rights': [161], 'reserved': [162]}}\n"
     ]
    }
   ],
   "source": [
    "f = open(\"stoplist.txt\", \"r\") \n",
    "stoplist = f.read().splitlines() #Stoplist words\n",
    "\n",
    "for i in range(len(docs_words)):\n",
    "    for key in list(docs_words[i]):\n",
    "        if key in stoplist or len(key) == 1:\n",
    "            docs_words[i].pop(key,None)\n",
    "#print(docs_words)            "
   ]
  },
  {
   "cell_type": "markdown",
   "metadata": {},
   "source": [
    "# Stemming "
   ]
  },
  {
   "cell_type": "code",
   "execution_count": null,
   "metadata": {},
   "outputs": [],
   "source": []
  }
 ],
 "metadata": {
  "kernelspec": {
   "display_name": "Python 3",
   "language": "python",
   "name": "python3"
  },
  "language_info": {
   "codemirror_mode": {
    "name": "ipython",
    "version": 3
   },
   "file_extension": ".py",
   "mimetype": "text/x-python",
   "name": "python",
   "nbconvert_exporter": "python",
   "pygments_lexer": "ipython3",
   "version": "3.7.3"
  }
 },
 "nbformat": 4,
 "nbformat_minor": 2
}
