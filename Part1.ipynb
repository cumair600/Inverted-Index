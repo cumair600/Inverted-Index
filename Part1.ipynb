{
 "cells": [
  {
   "cell_type": "markdown",
   "metadata": {},
   "source": [
    "# Importing Libraries"
   ]
  },
  {
   "cell_type": "code",
   "execution_count": 21,
   "metadata": {},
   "outputs": [],
   "source": [
    "from urllib.request import urlopen\n",
    "from bs4 import BeautifulSoup\n",
    "import os\n",
    "import nltk\n",
    "from nltk.tokenize import word_tokenize\n",
    "from nltk.tokenize import TweetTokenizer\n",
    "#nltk.download('all')"
   ]
  },
  {
   "cell_type": "markdown",
   "metadata": {},
   "source": [
    "# Reading Docs"
   ]
  },
  {
   "cell_type": "code",
   "execution_count": 22,
   "metadata": {},
   "outputs": [
    {
     "name": "stdout",
     "output_type": "stream",
     "text": [
      "Docs/file1\n",
      "Docs/file2\n",
      "Docs/file3.txt\n"
     ]
    }
   ],
   "source": [
    "path = \"Docs/\"\n",
    "\n",
    "files = []\n",
    "# r=root, d=directories, f = files\n",
    "for r, d, f in os.walk(path):\n",
    "    for file in f:\n",
    "        files.append(os.path.join(r, file))\n",
    "    \n",
    "for f in files:\n",
    "    print(f)"
   ]
  },
  {
   "cell_type": "markdown",
   "metadata": {},
   "source": [
    "# Removing Headers and HTML Tags, Tokenization"
   ]
  },
  {
   "cell_type": "code",
   "execution_count": 25,
   "metadata": {},
   "outputs": [
    {
     "name": "stdout",
     "output_type": "stream",
     "text": [
      "{0: ['Dark', \"Chocolate's\", 'Health', 'Benefits', 'Chocolate', 'and', 'Your', 'Health', ':', 'The', 'Basics', 'The', 'Basics', \"It's\", 'more', 'than', 'wishful', 'thinking', '—', 'chocolate', 'can', 'be', 'good', 'for', 'you', '.', 'Studies', 'show', 'that', 'eating', 'chocolate', ',', 'primarily', 'dark', 'chocolate', ',', 'may', 'contribute', 'to', 'improved', 'cardiovascular', 'health', '.', 'Packed', 'with', 'natural', 'antioxidants', ',', 'dark', 'chocolate', 'and', 'cocoa', 'sit', 'in', 'the', 'same', 'good-for-you', 'category', 'as', 'green', 'tea', 'and', 'blueberries', '.', \"That's\", 'because', 'chocolate', 'comes', 'from', 'cacao', 'beans', '(', 'or', 'cocoa', 'beans', ')', ',', 'which', 'grow', 'on', 'the', 'cacao', 'tree', 'and', 'are', 'full', 'of', 'natural', 'plant', 'nutrients', '.', 'Most', 'of', 'the', 'studies', 'to', 'date', 'highlight', 'dark', \"chocolate's\", 'health', 'values', 'because', 'it', 'has', 'the', 'highest', 'percentage', 'of', 'cocoa', 'solids', ',', 'therefore', 'more', 'flavanol', 'antioxidants', '.', 'An', 'Antioxidant', 'Powerhouse', 'Dark', 'chocolate', 'and', 'cocoa', 'are', 'rich', 'in', 'cell-protecting', 'antioxidants', '-', '-', 'natural', 'compounds', 'found', 'in', 'fruits', ',', 'vegetables', ',', 'grains', 'and', 'nuts', '.', 'Read', 'what', 'scientists', 'are', 'studying', 'regarding', 'antioxidants', 'and', 'cardiovascular', 'disease', ',', 'premature', 'aging', 'and', 'cancer', '.', 'Matters', 'of', 'the', 'Heart', 'Recent', 'studies', 'have', 'shown', 'dark', 'chocolate', 'and', 'cocoa', 'may', 'be', 'good', 'for', 'your', 'heart', '.', 'In', 'short-term', 'clinical', 'trials', ',', 'dark', 'chocolate', 'has', 'reduced', 'blood', 'pressure', ',', 'improved', 'blood', 'flow', ',', 'showed', 'mild', 'anti-clotting', 'effects', 'and', 'may', 'help', 'prevent', 'plaque', 'formation', 'in', 'arteries', '.', 'Read', 'about', 'the', 'research', 'on', 'chocolate', 'and', 'your', 'heart', '.', 'Sweet', 'News', 'For', 'Managing', 'Blood', 'Sugar', 'Despite', 'its', 'sweet', 'reputation', ',', 'dark', 'chocolate', 'has', 'a', 'low', 'glycemic', 'index', 'similar', 'to', 'that', 'of', 'oatmeal', '—', 'meaning', 'it', 'does', 'not', 'send', 'your', 'blood', 'sugar', 'spiking', '.', 'Find', 'out', 'more', 'about', 'the', 'surprising', 'chemistry', 'behind', 'your', 'favorite', 'treat', '.', 'Vital', 'Minerals', 'Like', 'any', 'plant-based', 'food', ',', 'chocolate', 'naturally', 'contains', 'an', 'array', 'of', 'minerals', '.', 'See', 'how', 'chocolate', 'stacks', 'up', 'in', 'critical', 'nutrients', '.', 'Chocolate', 'and', 'Your', 'Brain', 'Is', 'it', 'more', 'than', 'just', 'the', 'taste', '?', 'Why', 'does', 'chocolate', 'make', 'us', 'feel', 'good', '?', 'Discover', 'what', 'chocolate', 'does', 'to', 'your', 'brain', '.', 'Emerging', 'Science', 'Buoyed', 'by', 'positive', 'findings', ',', 'more', 'research', 'is', 'being', 'conducted', 'on', \"chocolate's\", 'health', 'benefits', ',', 'including', 'potential', 'cancer-fighting', 'abilities', 'and', 'improved', 'cognitive', 'function', '.', 'Learn', 'about', \"chocolate's\", 'future', 'in', 'health', 'studies', '.', 'The', 'Basics', 'An', 'Antioxidant', 'Powerhouse', 'Matters', 'of', 'the', 'Heart', 'Sweet', 'News', 'for', 'Managing', 'Blood', 'Sugar', 'Vital', 'Minerals', 'Chocolate', 'and', 'Your', 'Brain', 'Emerging', 'Science', \"Chocolate's\", 'Nutritional', 'Breakdown', 'Chocolate', 'Myth', 'vs', '.', 'Fact', 'Part', 'of', 'a', 'Balanced', 'Diet', 'Cacao', 'and', 'Ancient', 'Medicine', 'Scientists', 'on', 'the', 'Forefront', 'Chocolate', 'and', 'Your', 'Pets', 'Chocolate', 'and', 'Health', 'Resources', 'Legal', 'Info', 'Privacy', 'Policy', 'Site', 'Index', 'Contact', 'Us', 'Site', 'Sponsors', 'Privacy', 'Policy', 'Send', 'to', 'a', 'Friend', '*', 'required', 'fields', 'Thank', 'You', 'Your', 'message', 'has', 'been', 'sent', '.', 'Sorry', 'The', 'owner', 'of', 'the', 'email', 'address', 'you', 'entered', 'has', 'requested', 'that', 'we', 'not', 'send', 'him', 'or', 'her', 'unsolicited', 'emails', '.', 'Thank', 'you', '.'], 1: ['AOL', 'Lifestream', ':', 'Login', 'AOL', 'Lifestream', 'Everything', 'People', 'Places', 'Sign', 'InSign', 'Up', 'Everything', 'People', 'Places', 'Sign', 'In', 'to', 'Use', 'your', 'AIM', 'or', 'AOL', 'account', ':', 'Or', 'use', 'your', 'existing', 'account', ':', 'Facebook', 'Sign', 'Up', 'with', 'Start', 'connecting', 'all', 'your', 'networks', '!', 'Create', 'an', 'Account', '!', 'Or', 'use', 'your', 'existing', 'account', ':', 'Facebook', 'One', 'stream', ',', 'multiple', 'networks', '.', 'Read', ',', 'comment', 'and', 'post', 'to', 'all', 'of', 'your', 'networks', 'from', 'one', 'handy', 'place', '.', 'Sign', 'Up', 'Now', '!', 'Find', 'it', 'now.On', 'any', 'network', '.', 'Search', 'across', 'all', 'of', 'your', 'networks', 'from', 'one', 'place', '.', 'Stay', 'up', 'to', 'date', 'when', \"you're\", 'on', 'the', 'go', '.', \"There's\", 'an', 'app', 'for', 'your', 'smartphone', ',', 'so', 'you', \"won't\", 'miss', 'a', 'thing', '!', 'Learn', 'More', '»', 'Sign', 'Up', 'Simplifying', 'Social', '.', 'Sign', 'Up', 'Now', '!', 'AOL', 'Lifestream', 'Downloads', 'Sign', 'Up', 'Sign', 'In', 'Feedback', 'Updated', 'Terms', 'of', 'Service', 'Updated', 'Privacy', 'Policy', 'Trademarks', 'Bulk', 'Email', 'Policy', 'Advertise', 'With', 'Us', 'About', 'Our', 'Ads', 'AOL.com', '©', '2012', 'AOL', 'Inc', '.', 'All', 'Rights', 'Reserved', '.'], 2: ['AOL', 'Lifestream', ':', 'Login', 'AOL', 'Lifestream', 'Everything', 'People', 'Places', 'Sign', 'InSign', 'Up', 'Everything', 'People', 'Places', 'Sign', 'In', 'to', 'Use', 'your', 'AIM', 'or', 'AOL', 'account', ':', 'Or', 'use', 'your', 'existing', 'account', ':', 'Facebook', 'Sign', 'Up', 'with', 'Start', 'connecting', 'all', 'your', 'networks', '!', 'Create', 'an', 'Account', '!', 'Or', 'use', 'your', 'existing', 'account', ':', 'Facebook', 'One', 'stream', ',', 'multiple', 'networks', '.', 'Read', ',', 'comment', 'and', 'post', 'to', 'all', 'of', 'your', 'networks', 'from', 'one', 'handy', 'place', '.', 'Sign', 'Up', 'Now', '!', 'Find', 'it', 'now.On', 'any', 'network', '.', 'Search', 'across', 'all', 'of', 'your', 'networks', 'from', 'one', 'place', '.', 'Stay', 'up', 'to', 'date', 'when', \"you're\", 'on', 'the', 'go', '.', \"There's\", 'an', 'app', 'for', 'your', 'smartphone', ',', 'so', 'you', \"won't\", 'miss', 'a', 'thing', '!', 'Learn', 'More', '»', 'Sign', 'Up', 'Simplifying', 'Social', '.', 'Sign', 'Up', 'Now', '!', 'AOL', 'Lifestream', 'Downloads', 'Sign', 'Up', 'Sign', 'In', 'Feedback', 'Updated', 'Terms', 'of', 'Service', 'Updated', 'Privacy', 'Policy', 'Trademarks', 'Bulk', 'Email', 'Policy', 'Advertise', 'With', 'Us', 'About', 'Our', 'Ads', 'AOL.com', '©', '2012', 'AOL', 'Inc', '.', 'All', 'Rights', 'Reserved', '.']}\n"
     ]
    }
   ],
   "source": [
    "Dict = {}\n",
    "i = 0\n",
    "for f in files:\n",
    "    doc = open(f,\"r\")\n",
    "    html = doc.read()\n",
    "    \n",
    "    index = html.find(\"<html\")\n",
    "    if index == -1 :\n",
    "        html.find(\"<Html\")\n",
    "    elif index == -1 : \n",
    "        html.find(\"<HTML\")\n",
    "    html = html[index:]\n",
    "\n",
    "    soup = BeautifulSoup(html)\n",
    "\n",
    "    # kill all script and style elements\n",
    "    for script in soup([\"script\", \"style\"]):\n",
    "        script.extract()    # rip it out\n",
    "\n",
    "    # get text\n",
    "    text = soup.get_text()\n",
    "\n",
    "    # break into lines and remove leading and trailing space on each\n",
    "    lines = (line.strip() for line in text.splitlines())\n",
    "    # break multi-headlines into a line each\n",
    "    chunks = (phrase.strip() for line in lines for phrase in line.split(\"  \"))\n",
    "    # drop blank lines\n",
    "    text = '\\n'.join(chunk for chunk in chunks if chunk)\n",
    "    \n",
    "    #print(\"Doc : \" + text + \"\\n\\n\")\n",
    "    tknzr = TweetTokenizer()\n",
    "    Dict[i] = tknzr.tokenize(text)\n",
    "    i = i + 1\n",
    "\n",
    "#print(Dict)    "
   ]
  },
  {
   "cell_type": "markdown",
   "metadata": {},
   "source": [
    "# Converting tokens into lowercase"
   ]
  },
  {
   "cell_type": "code",
   "execution_count": 29,
   "metadata": {},
   "outputs": [],
   "source": [
    "for i in range(len(Dict)):\n",
    "    for j in range(len(Dict[i])):\n",
    "        Dict[i][j] = Dict[i][j].lower()\n",
    "#print(Dict)               "
   ]
  },
  {
   "cell_type": "markdown",
   "metadata": {},
   "source": [
    "# Removing Stop list words"
   ]
  },
  {
   "cell_type": "code",
   "execution_count": 31,
   "metadata": {},
   "outputs": [
    {
     "name": "stdout",
     "output_type": "stream",
     "text": [
      "{0: ['dark', \"chocolate's\", 'health', 'benefits', 'chocolate', 'health', 'basics', 'basics', \"it's\", 'wishful', 'thinking', 'chocolate', 'good', 'studies', 'show', 'eating', 'chocolate', 'primarily', 'dark', 'chocolate', 'contribute', 'improved', 'cardiovascular', 'health', 'packed', 'natural', 'antioxidants', 'dark', 'chocolate', 'cocoa', 'sit', 'good-for-you', 'category', 'green', 'tea', 'blueberries', \"that's\", 'chocolate', 'comes', 'cacao', 'beans', 'cocoa', 'beans', 'grow', 'cacao', 'tree', 'full', 'natural', 'plant', 'nutrients', 'studies', 'date', 'highlight', 'dark', \"chocolate's\", 'health', 'values', 'highest', 'percentage', 'cocoa', 'solids', 'flavanol', 'antioxidants', 'antioxidant', 'powerhouse', 'dark', 'chocolate', 'cocoa', 'rich', 'cell-protecting', 'antioxidants', 'natural', 'compounds', 'found', 'fruits', 'vegetables', 'grains', 'nuts', 'read', 'scientists', 'studying', 'regarding', 'antioxidants', 'cardiovascular', 'disease', 'premature', 'aging', 'cancer', 'matters', 'heart', 'recent', 'studies', 'dark', 'chocolate', 'cocoa', 'good', 'heart', 'short-term', 'clinical', 'trials', 'dark', 'chocolate', 'reduced', 'blood', 'pressure', 'improved', 'blood', 'flow', 'showed', 'mild', 'anti-clotting', 'effects', 'help', 'prevent', 'plaque', 'formation', 'arteries', 'read', 'research', 'chocolate', 'heart', 'sweet', 'news', 'managing', 'blood', 'sugar', 'despite', 'sweet', 'reputation', 'dark', 'chocolate', 'low', 'glycemic', 'index', 'similar', 'oatmeal', 'meaning', 'send', 'blood', 'sugar', 'spiking', 'find', 'surprising', 'chemistry', 'favorite', 'treat', 'vital', 'minerals', 'plant-based', 'food', 'chocolate', 'naturally', 'contains', 'array', 'minerals', 'chocolate', 'stacks', 'critical', 'nutrients', 'chocolate', 'brain', 'taste', 'chocolate', 'make', 'feel', 'good', 'discover', 'chocolate', 'brain', 'emerging', 'science', 'buoyed', 'positive', 'findings', 'research', 'conducted', \"chocolate's\", 'health', 'benefits', 'potential', 'cancer-fighting', 'abilities', 'improved', 'cognitive', 'function', 'learn', \"chocolate's\", 'future', 'health', 'studies', 'basics', 'antioxidant', 'powerhouse', 'matters', 'heart', 'sweet', 'news', 'managing', 'blood', 'sugar', 'vital', 'minerals', 'chocolate', 'brain', 'emerging', 'science', \"chocolate's\", 'nutritional', 'breakdown', 'chocolate', 'myth', 'fact', 'part', 'balanced', 'diet', 'cacao', 'ancient', 'medicine', 'scientists', 'forefront', 'chocolate', 'pets', 'chocolate', 'health', 'resources', 'legal', 'info', 'privacy', 'policy', 'site', 'index', 'contact', 'site', 'sponsors', 'privacy', 'policy', 'send', 'friend', 'required', 'fields', 'thank', 'message', 'sorry', 'owner', 'email', 'address', 'entered', 'requested', 'send', 'unsolicited', 'emails', 'thank'], 1: ['aol', 'lifestream', 'login', 'aol', 'lifestream', 'people', 'places', 'sign', 'insign', 'people', 'places', 'sign', 'aim', 'aol', 'account', 'existing', 'account', 'facebook', 'sign', 'start', 'connecting', 'networks', 'create', 'account', 'existing', 'account', 'facebook', 'stream', 'multiple', 'networks', 'read', 'comment', 'post', 'networks', 'handy', 'place', 'sign', 'find', 'now.on', 'network', 'search', 'networks', 'place', 'stay', 'date', \"you're\", \"there's\", 'app', 'smartphone', \"won't\", 'miss', 'thing', 'learn', 'sign', 'simplifying', 'social', 'sign', 'aol', 'lifestream', 'downloads', 'sign', 'sign', 'feedback', 'updated', 'terms', 'service', 'updated', 'privacy', 'policy', 'trademarks', 'bulk', 'email', 'policy', 'advertise', 'ads', 'aol.com', '2012', 'aol', 'rights', 'reserved'], 2: ['aol', 'lifestream', 'login', 'aol', 'lifestream', 'people', 'places', 'sign', 'insign', 'people', 'places', 'sign', 'aim', 'aol', 'account', 'existing', 'account', 'facebook', 'sign', 'start', 'connecting', 'networks', 'create', 'account', 'existing', 'account', 'facebook', 'stream', 'multiple', 'networks', 'read', 'comment', 'post', 'networks', 'handy', 'place', 'sign', 'find', 'now.on', 'network', 'search', 'networks', 'place', 'stay', 'date', \"you're\", \"there's\", 'app', 'smartphone', \"won't\", 'miss', 'thing', 'learn', 'sign', 'simplifying', 'social', 'sign', 'aol', 'lifestream', 'downloads', 'sign', 'sign', 'feedback', 'updated', 'terms', 'service', 'updated', 'privacy', 'policy', 'trademarks', 'bulk', 'email', 'policy', 'advertise', 'ads', 'aol.com', '2012', 'aol', 'rights', 'reserved']}\n"
     ]
    }
   ],
   "source": [
    "f = open(\"stoplist.txt\", \"r\")\n",
    "stoplist = f.read().splitlines()\n",
    "\n",
    "for i in range(len(Dict)):\n",
    "    for word in list(Dict[i]):\n",
    "        if word in stoplist or len(word) == 1:\n",
    "            Dict[i].remove(word)\n",
    "#print(Dict)            "
   ]
  },
  {
   "cell_type": "code",
   "execution_count": null,
   "metadata": {},
   "outputs": [],
   "source": []
  }
 ],
 "metadata": {
  "kernelspec": {
   "display_name": "Python 3",
   "language": "python",
   "name": "python3"
  },
  "language_info": {
   "codemirror_mode": {
    "name": "ipython",
    "version": 3
   },
   "file_extension": ".py",
   "mimetype": "text/x-python",
   "name": "python",
   "nbconvert_exporter": "python",
   "pygments_lexer": "ipython3",
   "version": "3.7.3"
  }
 },
 "nbformat": 4,
 "nbformat_minor": 2
}
