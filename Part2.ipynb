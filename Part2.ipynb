{
 "cells": [
  {
   "cell_type": "markdown",
   "metadata": {},
   "source": [
    "# Importing libraries"
   ]
  },
  {
   "cell_type": "code",
   "execution_count": 1,
   "metadata": {},
   "outputs": [],
   "source": [
    "from urllib.request import urlopen\n",
    "from bs4 import BeautifulSoup\n",
    "import os\n",
    "import nltk\n",
    "from nltk.tokenize import word_tokenize\n",
    "from nltk.tokenize import TweetTokenizer\n",
    "from nltk.stem import PorterStemmer\n",
    "import pickle\n",
    "import operator\n",
    "\n",
    "#nltk.download('all')"
   ]
  },
  {
   "cell_type": "markdown",
   "metadata": {},
   "source": [
    "# Reading Corpus"
   ]
  },
  {
   "cell_type": "code",
   "execution_count": 8,
   "metadata": {},
   "outputs": [],
   "source": [
    "path = \"corpus/\"\n",
    "\n",
    "files = []\n",
    "# r=root, d=directories, f = files\n",
    "for r, d, f in os.walk(path):\n",
    "    for file in f:\n",
    "        files.append(os.path.join(r, file))"
   ]
  },
  {
   "cell_type": "markdown",
   "metadata": {},
   "source": [
    "# Removing tags, headers, Lower Casing and tokenization "
   ]
  },
  {
   "cell_type": "code",
   "execution_count": 13,
   "metadata": {},
   "outputs": [],
   "source": [
    "docs_words = {}\n",
    "i = 0 #for docs_words\n",
    "\n",
    "for f in files:\n",
    "    doc = open(f, errors='ignore')\n",
    "    html = doc.read()\n",
    "    \n",
    "    index = html.find(\"<html\")\n",
    "    if index == -1 :\n",
    "        html.find(\"<Html\")\n",
    "    elif index == -1 : \n",
    "        html.find(\"<HTML\")\n",
    "    html = html[index:]\n",
    "\n",
    "    soup = BeautifulSoup(html)\n",
    "\n",
    "    # kill all script and style elements\n",
    "    for script in soup([\"script\", \"style\"]):\n",
    "        script.extract()    # rip it out\n",
    "\n",
    "    # get text\n",
    "    text = soup.get_text()\n",
    "\n",
    "    # break into lines and remove leading and trailing space on each\n",
    "    lines = (line.strip() for line in text.splitlines())\n",
    "    # break multi-headlines into a line each\n",
    "    chunks = (phrase.strip() for line in lines for phrase in line.split(\"  \"))\n",
    "    # drop blank lines\n",
    "    text = '\\n'.join(chunk for chunk in chunks if chunk)\n",
    "    \n",
    "    #print(\"Doc : \" + text + \"\\n\\n\")\n",
    "    tknzr = TweetTokenizer()\n",
    "    tokens = tknzr.tokenize(text)\n",
    "    words_pos = {}\n",
    "    j = 0; #for words_pos\n",
    "    for t in tokens:\n",
    "        t = t.lower() #lowering Case\n",
    "        t = t.replace(\"'\", \"\")\n",
    "        if t not in words_pos.keys():\n",
    "            words_pos[t] = []\n",
    "        if t in words_pos.keys():\n",
    "            words_pos[t].append(j)\n",
    "        j = j + 1\n",
    "    \n",
    "    docs_words[i] = words_pos\n",
    "    i = i + 1\n",
    "\n",
    "#print(docs_words)"
   ]
  },
  {
   "cell_type": "markdown",
   "metadata": {},
   "source": [
    "# Removing Stop words"
   ]
  },
  {
   "cell_type": "code",
   "execution_count": 14,
   "metadata": {},
   "outputs": [],
   "source": [
    "f = open(\"stoplist.txt\", \"r\") \n",
    "stoplist = f.read().splitlines() #Stoplist words\n",
    "\n",
    "for i in range(len(docs_words)):\n",
    "    for key in list(docs_words[i]):\n",
    "        if key in stoplist or len(key) == 1:\n",
    "            docs_words[i].pop(key,None)\n",
    "#print(docs_words)            "
   ]
  },
  {
   "cell_type": "markdown",
   "metadata": {},
   "source": [
    "# Inverted Index using Dictionary"
   ]
  },
  {
   "cell_type": "code",
   "execution_count": 15,
   "metadata": {},
   "outputs": [],
   "source": [
    "words_docs = {}\n",
    "\n",
    "for i in range(len(docs_words)):\n",
    "    for key in docs_words[i].keys():\n",
    "        docs_pos = {}\n",
    "        docs_pos[i] = docs_words[i].get(key)\n",
    "        if key not in words_docs.keys():\n",
    "            words_docs[key] = docs_pos\n",
    "        elif key in words_docs.keys():\n",
    "             words_docs[key][i] = docs_pos[i]\n",
    "\n",
    "#print(words_docs)"
   ]
  },
  {
   "cell_type": "markdown",
   "metadata": {},
   "source": [
    "# Stemming"
   ]
  },
  {
   "cell_type": "code",
   "execution_count": 16,
   "metadata": {},
   "outputs": [],
   "source": [
    "ps = PorterStemmer()\n",
    "\n",
    "for key in list(words_docs):\n",
    "    stem = ps.stem(key)\n",
    "    if stem != key:\n",
    "        if stem not in words_docs.keys():\n",
    "            words_docs[stem] = words_docs.pop(key)\n",
    "        elif stem in words_docs.keys():\n",
    "            dictn = words_docs.pop(key)\n",
    "            for doc in dictn.keys():\n",
    "                if doc not in words_docs[stem].keys():\n",
    "                    words_docs[stem][doc] = dictn[doc]\n",
    "                elif doc in words_docs[stem].keys():\n",
    "                    words_docs[stem][doc] = words_docs[stem][doc] + dictn[doc]\n",
    "\n",
    "#print(docs_words)"
   ]
  },
  {
   "cell_type": "markdown",
   "metadata": {},
   "source": [
    "# Inverted Index WITHOUT Dictionary"
   ]
  },
  {
   "cell_type": "code",
   "execution_count": 17,
   "metadata": {},
   "outputs": [],
   "source": [
    "list_of_tuples = []\n",
    "i = 0\n",
    "\n",
    "for key in words_docs.keys():\n",
    "    for docids in words_docs[key].keys():\n",
    "        tup = (i, docids)\n",
    "        list_of_tuples.append(tup)\n",
    "    i = i + 1    "
   ]
  },
  {
   "cell_type": "markdown",
   "metadata": {},
   "source": [
    "# Finding total occurences of a term"
   ]
  },
  {
   "cell_type": "code",
   "execution_count": 18,
   "metadata": {},
   "outputs": [],
   "source": [
    "def get_total_occurences(key):\n",
    "    count = 0\n",
    "    \n",
    "    for docid in words_docs[key].keys():\n",
    "        count = count + len(words_docs[key][docid]) \n",
    "    return count    "
   ]
  },
  {
   "cell_type": "markdown",
   "metadata": {},
   "source": [
    "# Writing term_index.txt and term_info.pickle"
   ]
  },
  {
   "cell_type": "code",
   "execution_count": 19,
   "metadata": {},
   "outputs": [],
   "source": [
    "term_index = open(\"term_index.txt\", \"w\", errors=\"ignore\")\n",
    "i = 0\n",
    "term_info = {}\n",
    "\n",
    "for key in words_docs.keys():\n",
    "    ocr = get_total_occurences(key)\n",
    "    docs = len(words_docs[key].keys())\n",
    "    tup = (i, ocr, docs)\n",
    "    term_info[key] = tup\n",
    "    \n",
    "    term_index.write(str(i) + \"\\t\" + str(ocr) + \"\\t\" + str(docs) + \"\\t\" + str(words_docs[key]) + \"\\n\")\n",
    "    i = i + 1"
   ]
  },
  {
   "cell_type": "markdown",
   "metadata": {},
   "source": [
    "# Making pickles of Inverted Index and Term info"
   ]
  },
  {
   "cell_type": "code",
   "execution_count": 20,
   "metadata": {},
   "outputs": [],
   "source": [
    "with open('Inverted-Index.pickle', 'wb') as handle:\n",
    "    pickle.dump(words_docs, handle, protocol=pickle.HIGHEST_PROTOCOL)\n",
    "\n",
    "with open('Term-Info.pickle', 'wb') as handle:\n",
    "    pickle.dump(term_info, handle, protocol=pickle.HIGHEST_PROTOCOL)    "
   ]
  },
  {
   "cell_type": "markdown",
   "metadata": {},
   "source": [
    "# Delta Encoding"
   ]
  },
  {
   "cell_type": "code",
   "execution_count": 21,
   "metadata": {},
   "outputs": [],
   "source": [
    "def delta_encoding(term):\n",
    "    delta_enc = {}\n",
    "    res = {}\n",
    "    \n",
    "    for key in sorted(words_docs[term].keys()):\n",
    "        delta_enc[key] = words_docs[term][key]\n",
    "    \n",
    "    for key in delta_enc.keys():\n",
    "        delta_enc[key].sort()\n",
    "        \n",
    "    for key in delta_enc.keys():\n",
    "        values = []\n",
    "        prev = 0\n",
    "        for value in delta_enc[key]:\n",
    "            enc_value = value - prev\n",
    "            prev = value\n",
    "            values.append(enc_value)\n",
    "        res[key] = values\n",
    "\n",
    "    return res   \n"
   ]
  },
  {
   "cell_type": "markdown",
   "metadata": {},
   "source": [
    "# Writing Delta Encoded term_index.txt"
   ]
  },
  {
   "cell_type": "code",
   "execution_count": 22,
   "metadata": {},
   "outputs": [],
   "source": [
    "term_index = open(\"delta_encoded_term_index.txt\", \"w\", errors=\"ignore\")\n",
    "i = 0\n",
    "\n",
    "for key in words_docs.keys():\n",
    "    ocr = get_total_occurences(key)\n",
    "    docs = len(words_docs[key].keys())\n",
    "    \n",
    "    term_index.write(str(i) + \"\\t\" + str(ocr) + \"\\t\" + str(docs) + \"\\t\")\n",
    "    d = delta_encoding(key)\n",
    "    prev = 0\n",
    "    term_index.write(\"{ \")   \n",
    "    for doc in d.keys():\n",
    "        term_index.write(str(doc - prev) + \": \" + str(d[doc]) + \", \")\n",
    "        prev = doc\n",
    "    term_index.write(\" }\\n\")    \n",
    "    i = i + 1"
   ]
  },
  {
   "cell_type": "code",
   "execution_count": null,
   "metadata": {},
   "outputs": [],
   "source": []
  }
 ],
 "metadata": {
  "kernelspec": {
   "display_name": "Python 3",
   "language": "python",
   "name": "python3"
  },
  "language_info": {
   "codemirror_mode": {
    "name": "ipython",
    "version": 3
   },
   "file_extension": ".py",
   "mimetype": "text/x-python",
   "name": "python",
   "nbconvert_exporter": "python",
   "pygments_lexer": "ipython3",
   "version": "3.7.3"
  }
 },
 "nbformat": 4,
 "nbformat_minor": 2
}
