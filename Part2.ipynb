{
 "cells": [
  {
   "cell_type": "markdown",
   "metadata": {},
   "source": [
    "# Importing libraries"
   ]
  },
  {
   "cell_type": "code",
   "execution_count": 63,
   "metadata": {},
   "outputs": [],
   "source": [
    "from urllib.request import urlopen\n",
    "from bs4 import BeautifulSoup\n",
    "import os\n",
    "import nltk\n",
    "from nltk.tokenize import word_tokenize\n",
    "from nltk.tokenize import TweetTokenizer\n",
    "from nltk.stem import PorterStemmer\n",
    "import pickle\n",
    "\n",
    "#nltk.download('all')"
   ]
  },
  {
   "cell_type": "markdown",
   "metadata": {},
   "source": [
    "# Reading Corpus"
   ]
  },
  {
   "cell_type": "code",
   "execution_count": 64,
   "metadata": {},
   "outputs": [],
   "source": [
    "path = \"corpus/\"\n",
    "\n",
    "files = []\n",
    "# r=root, d=directories, f = files\n",
    "for r, d, f in os.walk(path):\n",
    "    for file in f:\n",
    "        files.append(os.path.join(r, file))"
   ]
  },
  {
   "cell_type": "markdown",
   "metadata": {},
   "source": [
    "# Removing tags, headers, Lower Casing and tokenization "
   ]
  },
  {
   "cell_type": "code",
   "execution_count": 66,
   "metadata": {},
   "outputs": [],
   "source": [
    "docs_words = {}\n",
    "i = 0 #for docs_words\n",
    "\n",
    "for f in files:\n",
    "    doc = open(f, errors='ignore')\n",
    "    html = doc.read()\n",
    "    \n",
    "    index = html.find(\"<html\")\n",
    "    if index == -1 :\n",
    "        html.find(\"<Html\")\n",
    "    elif index == -1 : \n",
    "        html.find(\"<HTML\")\n",
    "    html = html[index:]\n",
    "\n",
    "    soup = BeautifulSoup(html)\n",
    "\n",
    "    # kill all script and style elements\n",
    "    for script in soup([\"script\", \"style\"]):\n",
    "        script.extract()    # rip it out\n",
    "\n",
    "    # get text\n",
    "    text = soup.get_text()\n",
    "\n",
    "    # break into lines and remove leading and trailing space on each\n",
    "    lines = (line.strip() for line in text.splitlines())\n",
    "    # break multi-headlines into a line each\n",
    "    chunks = (phrase.strip() for line in lines for phrase in line.split(\"  \"))\n",
    "    # drop blank lines\n",
    "    text = '\\n'.join(chunk for chunk in chunks if chunk)\n",
    "    \n",
    "    #print(\"Doc : \" + text + \"\\n\\n\")\n",
    "    tknzr = TweetTokenizer()\n",
    "    tokens = tknzr.tokenize(text)\n",
    "    words_pos = {}\n",
    "    j = 0; #for words_pos\n",
    "    for t in tokens:\n",
    "        t = t.lower() #lowering Case\n",
    "        \n",
    "        if t not in words_pos.keys():\n",
    "            words_pos[t] = []\n",
    "        if t in words_pos.keys():\n",
    "            words_pos[t].append(j)\n",
    "        j = j + 1\n",
    "    \n",
    "    docs_words[i] = words_pos\n",
    "    i = i + 1\n",
    "\n",
    "#print(docs_words)"
   ]
  },
  {
   "cell_type": "markdown",
   "metadata": {},
   "source": [
    "# Removing Stop words"
   ]
  },
  {
   "cell_type": "code",
   "execution_count": 67,
   "metadata": {},
   "outputs": [],
   "source": [
    "f = open(\"stoplist.txt\", \"r\") \n",
    "stoplist = f.read().splitlines() #Stoplist words\n",
    "\n",
    "for i in range(len(docs_words)):\n",
    "    for key in list(docs_words[i]):\n",
    "        if key in stoplist or len(key) == 1:\n",
    "            docs_words[i].pop(key,None)\n",
    "#print(docs_words)            "
   ]
  },
  {
   "cell_type": "markdown",
   "metadata": {},
   "source": [
    "# Stemming"
   ]
  },
  {
   "cell_type": "code",
   "execution_count": 68,
   "metadata": {},
   "outputs": [],
   "source": [
    "ps = PorterStemmer()\n",
    "for i in range(len(docs_words)):\n",
    "    for key in list(docs_words[i]):\n",
    "        stem = ps.stem(key)\n",
    "        stem = stem.replace(\"'\", \"\")\n",
    "        if stem != key:\n",
    "            if stem not in docs_words[i].keys():\n",
    "                docs_words[i][stem] = docs_words[i].pop(key)\n",
    "            elif stem in docs_words[i].keys():\n",
    "                docs_words[i][stem] = docs_words[i][stem] + docs_words[i].pop(key)\n",
    "            \n",
    "#print(docs_words)"
   ]
  },
  {
   "cell_type": "markdown",
   "metadata": {},
   "source": [
    "# Inverted Index using Dictionary"
   ]
  },
  {
   "cell_type": "code",
   "execution_count": 69,
   "metadata": {},
   "outputs": [],
   "source": [
    "words_docs = {}\n",
    "\n",
    "for i in range(len(docs_words)):\n",
    "    for key in docs_words[i].keys():\n",
    "        docs_pos = {}\n",
    "        docs_pos[i] = docs_words[i].get(key)\n",
    "        if key not in words_docs.keys():\n",
    "            words_docs[key] = docs_pos\n",
    "        elif key in words_docs.keys():\n",
    "             words_docs[key][i] = docs_pos[i]\n",
    "\n",
    "#print(words_docs)"
   ]
  },
  {
   "cell_type": "markdown",
   "metadata": {},
   "source": [
    "# Inverted Index WITHOUT Dictionary"
   ]
  },
  {
   "cell_type": "code",
   "execution_count": 70,
   "metadata": {},
   "outputs": [],
   "source": [
    "list_of_tuples = []\n",
    "i = 0\n",
    "\n",
    "for key in words_docs.keys():\n",
    "    for docids in words_docs[key].keys():\n",
    "        tup = (i, docids)\n",
    "        list_of_tuples.append(tup)\n",
    "    i = i + 1    "
   ]
  },
  {
   "cell_type": "markdown",
   "metadata": {},
   "source": [
    "# Finding total occurences of a term"
   ]
  },
  {
   "cell_type": "code",
   "execution_count": 71,
   "metadata": {},
   "outputs": [],
   "source": [
    "def get_total_occurences(key):\n",
    "    count = 0\n",
    "    \n",
    "    for docid in words_docs[key].keys():\n",
    "        count = count + len(words_docs[key][docid]) \n",
    "    return count    "
   ]
  },
  {
   "cell_type": "markdown",
   "metadata": {},
   "source": [
    "# Writing term_index.txt"
   ]
  },
  {
   "cell_type": "code",
   "execution_count": 72,
   "metadata": {},
   "outputs": [],
   "source": [
    "term_index = open(\"term_index.txt\", \"w\", errors=\"ignore\")\n",
    "i = 0\n",
    "term_info = {}\n",
    "\n",
    "for key in words_docs.keys():\n",
    "    ocr = get_total_occurences(key)\n",
    "    docs = len(words_docs[key].keys())\n",
    "    tup = (i, ocr, docs)\n",
    "    term_info[key] = tup\n",
    "    \n",
    "    term_index.write(str(i) + \"\\t\" + str(ocr) + \"\\t\" + str(docs) + \"\\t\" + str(words_docs[key]) + \"\\n\")\n",
    "    i = i + 1"
   ]
  },
  {
   "cell_type": "markdown",
   "metadata": {},
   "source": [
    "# Making pickles of Inverted Index and Term info"
   ]
  },
  {
   "cell_type": "code",
   "execution_count": 74,
   "metadata": {},
   "outputs": [],
   "source": [
    "with open('Inverted-Index.pickle', 'wb') as handle:\n",
    "    pickle.dump(words_docs, handle, protocol=pickle.HIGHEST_PROTOCOL)\n",
    "\n",
    "with open('Term-Info.pickle', 'wb') as handle:\n",
    "    pickle.dump(term_info, handle, protocol=pickle.HIGHEST_PROTOCOL)    "
   ]
  },
  {
   "cell_type": "code",
   "execution_count": 75,
   "metadata": {},
   "outputs": [],
   "source": [
    "with open('Inverted-Index.pickle', 'rb') as handle:\n",
    "    a = pickle.load(handle)\n",
    "    \n",
    "with open('Term-Info.pickle', 'rb') as handle:\n",
    "    b = pickle.load(handle)   "
   ]
  },
  {
   "cell_type": "code",
   "execution_count": null,
   "metadata": {},
   "outputs": [],
   "source": []
  }
 ],
 "metadata": {
  "kernelspec": {
   "display_name": "Python 3",
   "language": "python",
   "name": "python3"
  },
  "language_info": {
   "codemirror_mode": {
    "name": "ipython",
    "version": 3
   },
   "file_extension": ".py",
   "mimetype": "text/x-python",
   "name": "python",
   "nbconvert_exporter": "python",
   "pygments_lexer": "ipython3",
   "version": "3.7.3"
  }
 },
 "nbformat": 4,
 "nbformat_minor": 2
}
